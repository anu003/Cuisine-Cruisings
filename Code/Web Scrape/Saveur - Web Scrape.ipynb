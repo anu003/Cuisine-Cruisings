{
 "cells": [
  {
   "cell_type": "code",
   "execution_count": 1,
   "metadata": {
    "collapsed": false
   },
   "outputs": [],
   "source": [
    "from time import sleep\n",
    "import requests\n",
    "from selenium import webdriver\n",
    "from selenium.webdriver.common.keys import Keys\n",
    "from bs4 import BeautifulSoup\n",
    "from math import ceil\n",
    "import pandas as pd\n",
    "from pymongo import MongoClient"
   ]
  },
  {
   "cell_type": "code",
   "execution_count": 2,
   "metadata": {
    "collapsed": true
   },
   "outputs": [],
   "source": [
    "SCRAPING_REQUEST_STAGGER = 2.0 # in seconds\n",
    "# the link for Saveur cuisine recipes\n",
    "CUISINE_URL = 'http://www.saveur.com/recipes-search?filter[2]={}'\n",
    "# the link for Saveur recipes\n",
    "RECIPE_URL = 'http://www.saveur.com{}'\n",
    "NUMBER_OF_RECIPES_PER_PAGE = 48."
   ]
  },
  {
   "cell_type": "code",
   "execution_count": null,
   "metadata": {
    "collapsed": true
   },
   "outputs": [],
   "source": [
    "DB_NAME = 'PROJECT_RECIPIES'\n",
    "COLLECTION_NAME = 'Saveur'\n",
    "\n",
    "client = MongoClient()\n",
    "db = client[DB_NAME]\n",
    "coll = db[COLLECTION_NAME]"
   ]
  },
  {
   "cell_type": "code",
   "execution_count": 3,
   "metadata": {
    "collapsed": true
   },
   "outputs": [],
   "source": [
    "def get_content_from_url(link):\n",
    "    # make request with the input link and return the content of the web link\n",
    "    sleep(SCRAPING_REQUEST_STAGGER)        \n",
    "    response = requests.get(link)\n",
    "    \n",
    "    # if the status code of response is not 200, then raise a warning\n",
    "    if response.status_code != 200:\n",
    "        return False\n",
    "    \n",
    "    return response.content"
   ]
  },
  {
   "cell_type": "code",
   "execution_count": null,
   "metadata": {
    "collapsed": true
   },
   "outputs": [],
   "source": [
    "def get_content_from_dynamic_url(link):\n",
    "    # make request with the input link and return the content of the web link\n",
    "    browser = webdriver.Chrome(\"/Applications/chromedriver\")  \n",
    "    browser.set_page_load_timeout(45)\n",
    "    try:\n",
    "        browser.get(link)\n",
    "    except:\n",
    "        page_source = browser.page_source\n",
    "        browser.close()\n",
    "        return page_source\n",
    "    page_source = browser.page_source\n",
    "    browser.quit()\n",
    "    return page_source"
   ]
  },
  {
   "cell_type": "code",
   "execution_count": 5,
   "metadata": {
    "collapsed": false
   },
   "outputs": [],
   "source": [
    "def get_number_of_recipes(filter2_value):\n",
    "    # find number of recipes for any given cuisine\n",
    "    \n",
    "    # create a full link using the cuisine_link and cuisine name to obtain web content from link\n",
    "    cuisine_link = CUISINE_URL.format(filter2_value)\n",
    "    cuisine_recipes = get_content_from_dynamic_url(cuisine_link)\n",
    "    \n",
    "    # if no content is returned from the cuisine link page\n",
    "    if not cuisine_recipes:\n",
    "        print \"no content for:\", cuisine_link\n",
    "        return None  \n",
    "    \n",
    "    # convert web content to soup to better access the content\n",
    "    soup_cuisine = BeautifulSoup(cuisine_recipes)\n",
    "    \n",
    "    # select characters from phrase and convert it into integer\n",
    "    return int(soup_cuisine.find(\"div\", {\"class\": \"results_label\"}).get_text().split()[0].replace(\",\", \"\"))"
   ]
  },
  {
   "cell_type": "code",
   "execution_count": null,
   "metadata": {
    "collapsed": true
   },
   "outputs": [],
   "source": [
    "def get_recipe(r_link):\n",
    "    # make web request and obtain site content for recipe page\n",
    "    recipe_link = RECIPE_URL.format(r_link)\n",
    "    recipe_response = get_content_from_url(recipe_link)\n",
    "    if not recipe_response:\n",
    "        print \"no content for:\", recipe_link\n",
    "        return None\n",
    "    \n",
    "    return BeautifulSoup(recipe_response)"
   ]
  },
  {
   "cell_type": "code",
   "execution_count": null,
   "metadata": {
    "collapsed": true
   },
   "outputs": [],
   "source": [
    "def get_recipe_title(soup_recipe):\n",
    "    # recipe title\n",
    "    return soup_recipe.find(\"div\",{\"class\":\"content-onecol one-col\"}).find(\"h1\").get_text().strip()"
   ]
  },
  {
   "cell_type": "code",
   "execution_count": null,
   "metadata": {
    "collapsed": true
   },
   "outputs": [],
   "source": [
    "def get_recipe_chef(soup_recipe):\n",
    "    # recipe chef name\n",
    "    chef_name = soup_recipe.find(\"span\",{\"class\":\"author\"})\n",
    "    \n",
    "    # if chef name is not there for the recipe\n",
    "    if not chef_name:\n",
    "        return None\n",
    "    \n",
    "    # strip new line characters on both sides and the \"By \" from front\n",
    "    return chef_name.find(\"a\").get_text()"
   ]
  },
  {
   "cell_type": "code",
   "execution_count": null,
   "metadata": {
    "collapsed": true
   },
   "outputs": [],
   "source": [
    "def get_description(soup_recipe):\n",
    "    # recipe description\n",
    "    summary = soup_recipe.find(\"div\",{\"class\":\"field-body inContentAds-processed\"})\n",
    "    \n",
    "    # if summary is not there for the recipe\n",
    "    if not summary:\n",
    "        return None\n",
    "    \n",
    "    return summary.find(\"p\").get_text().strip()"
   ]
  },
  {
   "cell_type": "code",
   "execution_count": null,
   "metadata": {
    "collapsed": true
   },
   "outputs": [],
   "source": [
    "def get_recipe_ingredients(soup_recipe):\n",
    "    #recipe ingredients\n",
    "    ingredients_list = soup_recipe.find_all(\"div\", {\"class\":\"ingredient\"})\n",
    "    ingredients = []\n",
    "    for ing in ingredients_list:\n",
    "        ingredients.append(ing.get_text())\n",
    "    return ingredients"
   ]
  },
  {
   "cell_type": "code",
   "execution_count": null,
   "metadata": {
    "collapsed": true
   },
   "outputs": [],
   "source": [
    "def get_recipe_preperation(soup_recipe):\n",
    "    # recipe preperation steps\n",
    "    prep_steps = soup_recipe.find_all(\"div\", {\"class\":\"instruction\"})\n",
    "    prep = []\n",
    "    for step in prep_steps:\n",
    "        # get text for the each step and strip of new line characters at both ends\n",
    "        prep.append(step.get_text().strip())\n",
    "    return prep"
   ]
  },
  {
   "cell_type": "code",
   "execution_count": null,
   "metadata": {
    "collapsed": true
   },
   "outputs": [],
   "source": [
    "def get_recipe_time(soup_recipe):\n",
    "    # recipe preperation time\n",
    "    prep_time = soup_recipe.find(\"div\", {\"class\":\"prep-time\"})\n",
    "    # if recipe has prep_time given\n",
    "    if prep_time:\n",
    "        prep_time = prep_time.get_text().strip()\n",
    "    else:\n",
    "        prep_time = None\n",
    "    # recipe cooking time\n",
    "    cooking_time = soup_recipe.find(\"div\", {\"class\":\"cook-time\"})\n",
    "    # if recipe has cooking_time given\n",
    "    if cooking_time:\n",
    "        cooking_time = cooking_time.get_text().strip()\n",
    "    else:\n",
    "        cooking_time = None\n",
    "    return prep_time, cooking_time"
   ]
  },
  {
   "cell_type": "code",
   "execution_count": null,
   "metadata": {
    "collapsed": true
   },
   "outputs": [],
   "source": [
    "def get_servings(soup_recipe):\n",
    "    # recipe servings\n",
    "    servings = soup_recipe.find(\"div\", {\"class\":\"yield\"})\n",
    "    if not servings:\n",
    "        return None\n",
    "    \n",
    "    return servings.get_text().strip()"
   ]
  },
  {
   "cell_type": "code",
   "execution_count": null,
   "metadata": {
    "collapsed": true
   },
   "outputs": [],
   "source": [
    "def get_recommendations(soup_recipe):\n",
    "    # recipe recommendations\n",
    "    ratings = soup_recipe.find(\"span\", {\"class\":\"rating\"})\n",
    "    # if recipe has ratings\n",
    "    if not ratings:\n",
    "        ratings = None\n",
    "    else:\n",
    "        ratings = ratings.get_text()\n",
    "    recommendations = soup_recipe.find(\"div\", {\"class\":\"prepare-again-rating\"}).find(\"span\")\n",
    "    # if recipe has recommendations\n",
    "    if not recommendations:\n",
    "        recommendations = None\n",
    "    else:\n",
    "        recommendations = recommendations.get_text()\n",
    "    return ratings, recommendations"
   ]
  },
  {
   "cell_type": "code",
   "execution_count": null,
   "metadata": {
    "collapsed": true
   },
   "outputs": [],
   "source": [
    "def get_nutrition_per_serving(soup_recipe):\n",
    "    # recipe servings\n",
    "    nutritional_info = soup_recipe.find(\"div\", {\"class\":\"nutritional-info\"})\n",
    "    if not nutritional_info:\n",
    "        return None\n",
    "    \n",
    "    return nutritional_info.get_text()"
   ]
  },
  {
   "cell_type": "code",
   "execution_count": null,
   "metadata": {
    "collapsed": true
   },
   "outputs": [],
   "source": [
    "def get_image_source(soup_recipe):\n",
    "    # recipe image source\n",
    "    image_source = soup_recipe.find(\"div\", {\"class\":\"field-image-inner\"})\n",
    "    if not image_source:\n",
    "        return None\n",
    "    \n",
    "    return image_source.find(\"img\")[\"data-src\"]"
   ]
  },
  {
   "cell_type": "code",
   "execution_count": 31,
   "metadata": {
    "collapsed": false
   },
   "outputs": [],
   "source": [
    "def get_recipe_details(recipe_links):\n",
    "    # obtain necessary recipe details from recipe page\n",
    "    \n",
    "    cuisine_recipes = {}\n",
    "    \n",
    "    # loop over recipe links to get recipe details for each recipe page\n",
    "    for r in recipe_links:\n",
    "        recipe = {}\n",
    "        recipe['r_link'] = r.a[\"href\"]\n",
    "        print \"recipe link: \", recipe['r_link']\n",
    "        \n",
    "        sleep(SCRAPING_REQUEST_STAGGER)        \n",
    "        soup_recipe = get_recipe(recipe['r_link'])\n",
    "        \n",
    "        recipe['recipe title'] = get_recipe_title(soup_recipe)\n",
    "        recipe['chef'] = get_recipe_chef(soup_recipe)\n",
    "        recipe['description'] = get_description(soup_recipe)\n",
    "        recipe['ingredient list'] = get_recipe_ingredients(soup_recipe)\n",
    "        recipe['preperation steps'] = get_recipe_preperation(soup_recipe)\n",
    "        recipe['prep_time'], recipe['cook_time'] = get_recipe_time(soup_recipe)\n",
    "        recipe['servings'] = get_servings(soup_recipe)\n",
    "        recipe['rating'], recipe['recommendation'] = get_recommendations(soup_recipe)\n",
    "        recipe['nutritional_info'] = get_nutrition_per_serving(soup_recipe)\n",
    "        recipe['image_source'] = get_image_source(soup_recipe)\n",
    "        \n",
    "        cuisine_recipes[recipe['recipe title']] = recipe\n",
    "    \n",
    "    return cuisine_recipes"
   ]
  },
  {
   "cell_type": "code",
   "execution_count": 38,
   "metadata": {
    "collapsed": true
   },
   "outputs": [],
   "source": [
    "def get_recipe_links(filter2_value, pages):\n",
    "    # loop over each page in the cuisine to obtain all the recipe details\n",
    "    \n",
    "    recipe_links = []\n",
    "    browser = webdriver.Chrome(\"/Applications/chromedriver\")  \n",
    "    browser.set_page_load_timeout(45)\n",
    "    link = CUISINE_URL.format(filter2_value)\n",
    "    try:\n",
    "        browser.get(link)\n",
    "        for page in xrange(1, pages+1):\n",
    "            # recipe links from each cuisine search page\n",
    "            recipes_links_per_page = BeautifulSoup(browser.page_source).find_all(\"div\",{\"class\":\"result_title\"})\n",
    "            recipe_links.extend(recipes_links_per_page)\n",
    "            sleep(SCRAPING_REQUEST_STAGGER)\n",
    "            if page < pages:\n",
    "                browser.find_element_by_class_name(\"pager-next\").click()\n",
    "            sleep(SCRAPING_REQUEST_STAGGER)\n",
    "    except:\n",
    "        for page in xrange(1, pages+1):\n",
    "            # recipe links from each cuisine search page\n",
    "            sleep(SCRAPING_REQUEST_STAGGER)\n",
    "            recipes_links_per_page = BeautifulSoup(browser.page_source).find_all(\"div\",{\"class\":\"result_title\"})\n",
    "            recipe_links.extend(recipes_links_per_page)\n",
    "            sleep(SCRAPING_REQUEST_STAGGER)\n",
    "            if page < pages:\n",
    "                browser.find_element_by_class_name(\"pager-next\").click()\n",
    "            sleep(SCRAPING_REQUEST_STAGGER)\n",
    "        \n",
    "    browser.quit()\n",
    "    \n",
    "    cuisine_recipes = get_recipe_details(recipe_links)\n",
    "    return cuisine_recipes"
   ]
  },
  {
   "cell_type": "code",
   "execution_count": 39,
   "metadata": {
    "collapsed": true
   },
   "outputs": [],
   "source": [
    "def get_cuisine_recipes(cuisines, filter2_values):\n",
    "    # loop over each cuisine and store data regarding that cuisine recipies\n",
    "    \n",
    "    # to store the data in a pandas Dataframe\n",
    "    cuisine_df = pd.DataFrame()\n",
    "    \n",
    "    for cuisine, filter2_value in zip(cuisines, filter2_values):\n",
    "        cuisine_dict = {}\n",
    "        \n",
    "        cuisine_dict['cuisine'] = cuisine\n",
    "        cuisine_dict['source'] = 'Saveur'\n",
    "        \n",
    "        # obtain the number of recipes for each cuisine\n",
    "        cuisine_dict['num_recipes'] = get_number_of_recipes(filter2_value)\n",
    "        \n",
    "        # convert number of recipes into pages to scrape\n",
    "        cuisine_dict['pages'] = int(ceil(cuisine_dict['num_recipes'] / NUMBER_OF_RECIPES_PER_PAGE))\n",
    "\n",
    "        # print the cuisine details\n",
    "        print '#####'\n",
    "        print \"Cuisine: %s \\t Number of recipes: %r \\t\\t Number of pages: %r\" \\\n",
    "                    % (cuisine, cuisine_dict['num_recipes'], cuisine_dict['pages'])\n",
    "        \n",
    "        \n",
    "        cuisine_dict['recipes_details'] = get_recipe_links(filter2_value, cuisine_dict['pages'])\n",
    "    \n",
    "        coll.insert_one(cuisine_dict)\n",
    "        \n",
    "        # convert the dictionary into a dataframe and append it to the final dataframe\n",
    "        cuisine_df = cuisine_df.append(pd.DataFrame.from_dict(cuisine_dict, orient='columns'), ignore_index=True)\n",
    "        \n",
    "    return cuisine_df"
   ]
  },
  {
   "cell_type": "code",
   "execution_count": 40,
   "metadata": {
    "collapsed": false
   },
   "outputs": [
    {
     "name": "stdout",
     "output_type": "stream",
     "text": [
      "#####\n",
      "Cuisine: African \t Number of recipes: 73 \t\t Number of pages: 2\n",
      "1\n",
      "2\n",
      "[<div class=\"result_title\"><a href=\"/semolina-coconut-cake-with-orange-and-rose-waters-recipe\">Semolina Coconut Cake with Orange and Rose Water</a></div>, <div class=\"result_title\"><a href=\"/date-semolina-cookies-makroud-recipe\">Date-Filled Semolina Cookies (Makroud)</a></div>, <div class=\"result_title\"><a href=\"/sugared-rosewater-marzipan-balls-kaber-ellouz-recipe\">Sugared Rosewater Marzipan Balls (Kaber Ellouz)</a></div>, <div class=\"result_title\"><a href=\"/syrup-soaked-pastries-with-hazelnuts-pistachios-and-pine-nuts-deblah-recipe\">Syrup-Soaked Pastries with Hazelnuts, Pistachios, and Pine Nuts (Deblah)</a></div>, <div class=\"result_title\"><a href=\"/1000-hole-crepes-baghrir-recipe\">1,000-Hole Crêpes (Baghrir)</a></div>, <div class=\"result_title\"><a href=\"/shredded-collard-green-salad-roasted-sweet-potatoes-cashews-recipe\">Shredded Collard Green Salad with Roasted Sweet Potatoes and Cashews</a></div>, <div class=\"result_title\"><a href=\"/tamarind-glazed-roast-turkey-recipe\">Tamarind-Glazed Roast Turkey</a></div>, <div class=\"result_title\"><a href=\"/black-eyed-pea-hummus-west-african-chile-paste-recipe\">Black-Eyed Pea Hummus with West African Chile Paste</a></div>, <div class=\"result_title\"><a href=\"/creamed-collard-greens-peanuts-chiles-recipe\">\"Creamed\" Collard Greens with Peanut Butter and Chile</a></div>, <div class=\"result_title\"><a href=\"/fonio-pilaf-with-dates-carrots-and-peanuts-recipe\">Fonio Pilaf with Dates, Carrots, and Peanuts</a></div>, <div class=\"result_title\"><a href=\"/eritrean-spicy-tomato-bread-salad-fata-recipe\">Eritrean Spicy Tomato Bread Salad with Yogurt (Fata)</a></div>, <div class=\"result_title\"><a href=\"/article/recipes/zanzibari-pressed-sugarcane-drink\">Zanzibari Pressed Sugarcane Drink</a></div>, <div class=\"result_title\"><a href=\"/article/recipes/charmoula-stuffed-sardines\">Charmoula-Stuffed Sardines</a></div>, <div class=\"result_title\"><a href=\"/article/Recipes/Garlic-Dill-Fava-Bean-Salad\">Garlic and Dill Fava Bean Salad (Bagula)</a></div>, <div class=\"result_title\"><a href=\"/article/Recipes/Senegal-Avocado-Mango-Salad\"> Avocado–Mango Salad (Saladu Awooka àk Mango)</a></div>, <div class=\"result_title\"><a href=\"/article/recipes/south-african-avocado-mint-shake\">Avocado-Mint Shake</a></div>, <div class=\"result_title\"><a href=\"/article/Recipes/Abala-Black-Eyed-Pea-Tamales\">Abala (Black Eyed Pea Tamales)</a></div>, <div class=\"result_title\"><a href=\"/article/Recipes/Spiced-Beef-Flatbread-Khima-Chapati\">Spiced Beef Flatbread (Khima Chapati)</a></div>, <div class=\"result_title\"><a href=\"/article/Recipes/Harissa\">Harissa</a></div>, <div class=\"result_title\"><a href=\"/article/recipes/sukuma-wiki-with-matoke-beef-stew-with-mashed-plantains\">Sukuma Wiki with Matoke (Beef Stew with Mashed Plantains)</a></div>, <div class=\"result_title\"><a href=\"/article/Recipes/Senegal-Peanut-Chicken-Stew\">Senegalese Peanut and Chicken Stew (Màfe Ginaar)</a></div>, <div class=\"result_title\"><a href=\"/article/Recipes/Harissa-Hot-Wings\">Harissa Hot Wings</a></div>, <div class=\"result_title\"><a href=\"/article/Recipes/Fried-Almond-Pastries\">Fried Almond Pastries (Samsa Feuille de Brick)</a></div>, <div class=\"result_title\"><a href=\"/article/Recipes/Pastels-Fried-Fish-Pies\">Pastels (Fried Fish Pies)</a></div>, <div class=\"result_title\"><a href=\"/article/Recipes/Tunisian-Tuna-Sandwich\"> Tunisan Tuna Sandwich (Casse-Croûte Tunisien)</a></div>, <div class=\"result_title\"><a href=\"/article/Recipes/Senegal-Black-Eyed-Pea-Salad\">Saladu Ñebbe (Black-Eyed Pea Salad)</a></div>, <div class=\"result_title\"><a href=\"/article/Recipes/Algerian-Crepes\">Mahjouba (Algerian Crêpes)</a></div>, <div class=\"result_title\"><a href=\"/article/Recipes/Cornmeal-Okra-Fritters\">Cornmeal-Okra Fritters </a></div>, <div class=\"result_title\"><a href=\"/article/Recipes/Shrimp-Mozambique\">Shrimp Mozambique</a></div>, <div class=\"result_title\"><a href=\"/article/Recipes/Garifuna-Fish-Coconut-Stew\">Hudutu (Fish and Coconut Stew with Mashed Plantains)</a></div>, <div class=\"result_title\"><a href=\"/article/Recipes/Chicken-Apricot-Fig-Olive-Tagine\">Chicken Tagine with Apricots, Figs, and Olives (Tagine Djaj Bzitoun)</a></div>, <div class=\"result_title\"><a href=\"/article/Recipes/North-African-Spice-Mix\">Ras el Hanout (North African Spice Mix)</a></div>, <div class=\"result_title\"><a href=\"/article/Recipes/Classic-Ethiopian-Chicken-Stew\">Ethiopian Chicken Stew (Doro Wot)</a></div>, <div class=\"result_title\"><a href=\"/article/Recipes/Classic-West-African-Peanut-Stew\">West African Peanut Stew</a></div>, <div class=\"result_title\"><a href=\"/article/Recipes/Classic-Stewed-Fava-Beans\">Ful Medames (Stewed Fava Beans)</a></div>, <div class=\"result_title\"><a href=\"/article/Recipes/Bobotie-South-African-Meat-Pie\">South African Meat Pie (Bobotie)</a></div>, <div class=\"result_title\"><a href=\"/article/Recipes/Yassa-Poulet-Grilled-Chicken-Caramelized-Onion\">Yassa Poulet (Grilled Chicken in Caramelized Onion Sauce)</a></div>, <div class=\"result_title\"><a href=\"/article/Recipes/Senegal-Coconut-Rice-Pudding\">Sombi (Coconut Rice Pudding)</a></div>, <div class=\"result_title\"><a href=\"/article/Recipes/Senegal-Black-Eyed-Pea-Fritters\">Accara (Black-Eyed Pea Fritters)</a></div>, <div class=\"result_title\"><a href=\"/article/Recipes/Senegal-Okra-Seafood-Stew\">Okra and Seafood Stew (Soupoukandia)</a></div>, <div class=\"result_title\"><a href=\"/article/Recipes/Senegal-Fish-Rice\">Senegalese Fish and Rice (Thiéboudienne)</a></div>, <div class=\"result_title\"><a href=\"/article/Recipes/Senegal-Chile-Sauce\">Sosu Kaani (Habanero Chile Sauce)</a></div>, <div class=\"result_title\"><a href=\"/article/Recipes/Canaries-Style-Ropa-Vieja\">Canaries-Style Ropa Vieja</a></div>, <div class=\"result_title\"><a href=\"/article/Recipes/Nigerian-Meat-Pies\">Nigerian Meat Pies</a></div>, <div class=\"result_title\"><a href=\"/article/Recipes/south-african-curry-meatloaf\">Bobotie (South African Curry Meat Loaf)</a></div>, <div class=\"result_title\"><a href=\"/article/Recipes/Coconut-Milk-Caramels\">Coconut Milk Caramels</a></div>, <div class=\"result_title\"><a href=\"/article/Recipes/Fish-Balls-in-Tomato-Sauce\">Fish Balls in Tomato Sauce</a></div>, <div class=\"result_title\"><a href=\"/article/Recipes/Spiced-Lamb-Sausages\">Spiced Lamb Sausages</a></div>, <div class=\"result_title\"><a href=\"/article/Recipes/Spicy-Tomato-Relish\">Spicy Tomato Relish </a></div>, <div class=\"result_title\"><a href=\"/article/Recipes/Grilled-Whole-Fish-with-Tamarind-Samaki-Wa-Kupaka\">Grilled Whole Fish with Tamarind (Samaki Wa Kupaka)</a></div>, <div class=\"result_title\"><a href=\"/article/Recipes/Piri-Pressure\">Piri Pressure Cocktail</a></div>, <div class=\"result_title\"><a href=\"/article/Recipes/Mechwiya\">Roasted Pepper Salad (Mechwiya)</a></div>, <div class=\"result_title\"><a href=\"/article/Recipes/The-Gatsby\">The Gatsby</a></div>, <div class=\"result_title\"><a href=\"/article/Recipes/Saveur-100-2011-koshary\">Egyptian Lentil and Rice Pasta (Koshary)</a></div>, <div class=\"result_title\"><a href=\"/article/Recipes/Chicken-Stewed-in-Coconut-Milk-Kuku-Wa-Nazi\">Chicken Stewed in Coconut Milk (Kuku Wa Nazi)</a></div>, <div class=\"result_title\"><a href=\"/article/Recipes/Ginger-Crab-Mkamba-wa-Tangawizi\">Ginger Crab (Mkamba Wa Tangawizi)</a></div>, <div class=\"result_title\"><a href=\"/article/Recipes/Tomato-and-Lime-Braised-Fish-Samaki-Wa-Kukausha\">Tomato-and-Lime-Braised Fish (Samaki Wa Kukausha)</a></div>, <div class=\"result_title\"><a href=\"/article/Recipes/Piri-Piri-Prawns\">Piri-Piri Prawns</a></div>, <div class=\"result_title\"><a href=\"/article/Recipes/Stewed-Kidney-Beans-Mchuzi-Wa-Mbaazi\">Stewed Kidney Beans (Mchuzi Wa Mbaazi)</a></div>, <div class=\"result_title\"><a href=\"/article/Recipes/Charmoula\">Charmoula</a></div>, <div class=\"result_title\"><a href=\"/article/Recipes/Fried-Plantains-1000081797\">Fried Plantains</a></div>, <div class=\"result_title\"><a href=\"/article/Recipes/Jollof-Rice\">Jollof Rice</a></div>, <div class=\"result_title\"><a href=\"/article/Wine-and-Drink/Tante-Marie-Fizz\">Tante Marie Fizz</a></div>, <div class=\"result_title\"><a href=\"/article/Recipes/Moroccan-Chicken-Stew\">Moroccan Chicken Stew with Almonds and Chickpeas (Djej Kdra Touimiya)</a></div>, <div class=\"result_title\"><a href=\"/article/Recipes/Spicy-Chicken-Stew\">Spicy Ethiopian Chicken Stew (Doro Wot)</a></div>, <div class=\"result_title\"><a href=\"/article/Recipes/Ethiopian-Spice-Mix\">Ethiopian Spice Mix (Berbere)</a></div>, <div class=\"result_title\"><a href=\"/article/Recipes/Ethiopian-Flatbread\">Ethiopian Flatbread (Injera)</a></div>, <div class=\"result_title\"><a href=\"/article/Recipes/Ethiopian-Lentil-Stew\">Ethiopian Lentil Stew (Misr Wot)</a></div>, <div class=\"result_title\"><a href=\"/article/Recipes/Collard-Greens-with-Smoked-Turkey-Wings\">Collard Greens with Smoked Turkey Wings</a></div>, <div class=\"result_title\"><a href=\"/article/Recipes/Khlea\">Moroccan Preserved Meat (Khlea)</a></div>, <div class=\"result_title\"><a href=\"/article/Recipes/Okra-with-Tomatoes-and-Chickpeas\">Okra with Tomatoes and Chickpeas</a></div>, <div class=\"result_title\"><a href=\"/article/Recipes/Sweet-Pepper-Salad-\">Sweet Pepper Salad </a></div>, <div class=\"result_title\"><a href=\"/article/Recipes/Sweet-Casablanca-Couscous\">Sweet Casablanca Couscous</a></div>]\n",
      "recipe link:  /semolina-coconut-cake-with-orange-and-rose-waters-recipe\n",
      "recipe link:  /date-semolina-cookies-makroud-recipe\n",
      "recipe link:  /sugared-rosewater-marzipan-balls-kaber-ellouz-recipe\n",
      "recipe link:  /syrup-soaked-pastries-with-hazelnuts-pistachios-and-pine-nuts-deblah-recipe\n",
      "recipe link:  /1000-hole-crepes-baghrir-recipe\n",
      "recipe link:  /shredded-collard-green-salad-roasted-sweet-potatoes-cashews-recipe\n",
      "recipe link:  /tamarind-glazed-roast-turkey-recipe\n",
      "recipe link:  /black-eyed-pea-hummus-west-african-chile-paste-recipe\n",
      "recipe link:  /creamed-collard-greens-peanuts-chiles-recipe\n",
      "recipe link:  /fonio-pilaf-with-dates-carrots-and-peanuts-recipe\n",
      "recipe link:  /eritrean-spicy-tomato-bread-salad-fata-recipe\n",
      "recipe link:  /article/recipes/zanzibari-pressed-sugarcane-drink\n",
      "recipe link:  /article/recipes/charmoula-stuffed-sardines\n",
      "recipe link:  /article/Recipes/Garlic-Dill-Fava-Bean-Salad\n",
      "recipe link:  /article/Recipes/Senegal-Avocado-Mango-Salad\n",
      "recipe link:  /article/recipes/south-african-avocado-mint-shake\n",
      "recipe link:  /article/Recipes/Abala-Black-Eyed-Pea-Tamales\n",
      "recipe link:  /article/Recipes/Spiced-Beef-Flatbread-Khima-Chapati\n",
      "recipe link:  /article/Recipes/Harissa\n",
      "recipe link:  /article/recipes/sukuma-wiki-with-matoke-beef-stew-with-mashed-plantains\n",
      "recipe link:  /article/Recipes/Senegal-Peanut-Chicken-Stew\n",
      "recipe link:  /article/Recipes/Harissa-Hot-Wings\n",
      "recipe link:  /article/Recipes/Fried-Almond-Pastries\n",
      "recipe link:  /article/Recipes/Pastels-Fried-Fish-Pies\n",
      "recipe link:  /article/Recipes/Tunisian-Tuna-Sandwich\n",
      "recipe link:  /article/Recipes/Senegal-Black-Eyed-Pea-Salad\n",
      "recipe link:  /article/Recipes/Algerian-Crepes\n",
      "recipe link:  /article/Recipes/Cornmeal-Okra-Fritters\n",
      "recipe link:  /article/Recipes/Shrimp-Mozambique\n",
      "recipe link:  /article/Recipes/Garifuna-Fish-Coconut-Stew\n",
      "recipe link:  /article/Recipes/Chicken-Apricot-Fig-Olive-Tagine\n",
      "recipe link:  /article/Recipes/North-African-Spice-Mix\n",
      "recipe link:  /article/Recipes/Classic-Ethiopian-Chicken-Stew\n",
      "recipe link:  /article/Recipes/Classic-West-African-Peanut-Stew\n",
      "recipe link:  /article/Recipes/Classic-Stewed-Fava-Beans\n",
      "recipe link:  /article/Recipes/Bobotie-South-African-Meat-Pie\n",
      "recipe link:  /article/Recipes/Yassa-Poulet-Grilled-Chicken-Caramelized-Onion\n",
      "recipe link:  /article/Recipes/Senegal-Coconut-Rice-Pudding\n",
      "recipe link:  /article/Recipes/Senegal-Black-Eyed-Pea-Fritters\n",
      "recipe link:  /article/Recipes/Senegal-Okra-Seafood-Stew\n",
      "recipe link:  /article/Recipes/Senegal-Fish-Rice\n",
      "recipe link:  /article/Recipes/Senegal-Chile-Sauce\n",
      "recipe link:  /article/Recipes/Canaries-Style-Ropa-Vieja\n",
      "recipe link:  /article/Recipes/Nigerian-Meat-Pies\n",
      "recipe link:  /article/Recipes/south-african-curry-meatloaf\n",
      "recipe link:  /article/Recipes/Coconut-Milk-Caramels\n",
      "recipe link:  /article/Recipes/Fish-Balls-in-Tomato-Sauce\n",
      "recipe link:  /article/Recipes/Spiced-Lamb-Sausages\n",
      "recipe link:  /article/Recipes/Spicy-Tomato-Relish\n",
      "recipe link:  /article/Recipes/Grilled-Whole-Fish-with-Tamarind-Samaki-Wa-Kupaka\n",
      "recipe link:  /article/Recipes/Piri-Pressure\n",
      "recipe link:  /article/Recipes/Mechwiya\n",
      "recipe link:  /article/Recipes/The-Gatsby\n",
      "recipe link:  /article/Recipes/Saveur-100-2011-koshary\n",
      "recipe link:  /article/Recipes/Chicken-Stewed-in-Coconut-Milk-Kuku-Wa-Nazi\n",
      "recipe link:  /article/Recipes/Ginger-Crab-Mkamba-wa-Tangawizi\n",
      "recipe link:  /article/Recipes/Tomato-and-Lime-Braised-Fish-Samaki-Wa-Kukausha\n",
      "recipe link:  /article/Recipes/Piri-Piri-Prawns\n",
      "recipe link:  /article/Recipes/Stewed-Kidney-Beans-Mchuzi-Wa-Mbaazi\n",
      "recipe link:  /article/Recipes/Charmoula\n",
      "recipe link:  /article/Recipes/Fried-Plantains-1000081797\n",
      "recipe link:  /article/Recipes/Jollof-Rice\n",
      "recipe link:  /article/Wine-and-Drink/Tante-Marie-Fizz\n",
      "recipe link:  /article/Recipes/Moroccan-Chicken-Stew\n",
      "recipe link:  /article/Recipes/Spicy-Chicken-Stew\n",
      "recipe link:  /article/Recipes/Ethiopian-Spice-Mix\n",
      "recipe link:  /article/Recipes/Ethiopian-Flatbread\n",
      "recipe link:  /article/Recipes/Ethiopian-Lentil-Stew\n",
      "recipe link:  /article/Recipes/Collard-Greens-with-Smoked-Turkey-Wings\n",
      "recipe link:  /article/Recipes/Khlea\n",
      "recipe link:  /article/Recipes/Okra-with-Tomatoes-and-Chickpeas\n",
      "recipe link:  /article/Recipes/Sweet-Pepper-Salad-\n",
      "recipe link:  /article/Recipes/Sweet-Casablanca-Couscous\n",
      "#####\n",
      "Cuisine: American \t Number of recipes: 1992 \t\t Number of pages: 42\n",
      "1\n",
      "2\n",
      "3\n",
      "4\n",
      "5\n"
     ]
    },
    {
     "ename": "TimeoutException",
     "evalue": "Message: timeout: Timed out receiving message from renderer: 14.693\n  (Session info: chrome=47.0.2526.106)\n  (Driver info: chromedriver=2.20.353124 (035346203162d32c80f1dce587c8154a1efa0c3b),platform=Mac OS X 10.10.5 x86_64)\n",
     "output_type": "error",
     "traceback": [
      "\u001b[0;31m---------------------------------------------------------------------------\u001b[0m",
      "\u001b[0;31mTimeoutException\u001b[0m                          Traceback (most recent call last)",
      "\u001b[0;32m<ipython-input-40-0fe1614d31b9>\u001b[0m in \u001b[0;36m<module>\u001b[0;34m()\u001b[0m\n\u001b[1;32m      5\u001b[0m     \u001b[0mfilter2_values\u001b[0m \u001b[0;34m=\u001b[0m \u001b[0;34m[\u001b[0m\u001b[0;36m1000489\u001b[0m\u001b[0;34m,\u001b[0m \u001b[0;36m1000490\u001b[0m\u001b[0;34m,\u001b[0m \u001b[0;36m1000491\u001b[0m\u001b[0;34m,\u001b[0m \u001b[0;36m1000493\u001b[0m\u001b[0;34m,\u001b[0m \u001b[0;36m1000494\u001b[0m\u001b[0;34m,\u001b[0m \u001b[0;36m1000496\u001b[0m\u001b[0;34m,\u001b[0m \u001b[0;36m1000497\u001b[0m\u001b[0;34m,\u001b[0m \u001b[0;36m1000498\u001b[0m\u001b[0;34m,\u001b[0m \u001b[0;36m1000499\u001b[0m\u001b[0;34m,\u001b[0m \u001b[0;36m1000500\u001b[0m\u001b[0;34m,\u001b[0m \u001b[0;36m1000501\u001b[0m\u001b[0;34m,\u001b[0m \u001b[0;36m1000503\u001b[0m\u001b[0;34m,\u001b[0m \u001b[0;36m1000506\u001b[0m\u001b[0;34m,\u001b[0m \u001b[0;36m1000932\u001b[0m\u001b[0;34m,\u001b[0m \u001b[0;36m1000508\u001b[0m\u001b[0;34m,\u001b[0m \u001b[0;36m1000509\u001b[0m\u001b[0;34m,\u001b[0m \u001b[0;36m1000510\u001b[0m\u001b[0;34m,\u001b[0m \u001b[0;36m1000512\u001b[0m\u001b[0;34m,\u001b[0m \u001b[0;36m1000513\u001b[0m\u001b[0;34m,\u001b[0m \u001b[0;36m1000514\u001b[0m\u001b[0;34m,\u001b[0m \u001b[0;36m1000515\u001b[0m\u001b[0;34m,\u001b[0m \u001b[0;36m1000517\u001b[0m\u001b[0;34m,\u001b[0m \u001b[0;36m1000518\u001b[0m\u001b[0;34m,\u001b[0m \u001b[0;36m1000520\u001b[0m\u001b[0;34m,\u001b[0m \u001b[0;36m1000521\u001b[0m\u001b[0;34m,\u001b[0m \u001b[0;36m1000522\u001b[0m\u001b[0;34m,\u001b[0m \u001b[0;36m1000525\u001b[0m\u001b[0;34m]\u001b[0m\u001b[0;34m\u001b[0m\u001b[0m\n\u001b[1;32m      6\u001b[0m     \u001b[0;31m#coll.delete_many({})\u001b[0m\u001b[0;34m\u001b[0m\u001b[0;34m\u001b[0m\u001b[0m\n\u001b[0;32m----> 7\u001b[0;31m     \u001b[0mcuisine_dataframe\u001b[0m \u001b[0;34m=\u001b[0m \u001b[0mget_cuisine_recipes\u001b[0m\u001b[0;34m(\u001b[0m\u001b[0mcuisines\u001b[0m\u001b[0;34m,\u001b[0m \u001b[0mfilter2_values\u001b[0m\u001b[0;34m)\u001b[0m\u001b[0;34m\u001b[0m\u001b[0m\n\u001b[0m",
      "\u001b[0;32m<ipython-input-39-5e1ad707ab5f>\u001b[0m in \u001b[0;36mget_cuisine_recipes\u001b[0;34m(cuisines, filter2_values)\u001b[0m\n\u001b[1;32m     22\u001b[0m \u001b[0;34m\u001b[0m\u001b[0m\n\u001b[1;32m     23\u001b[0m \u001b[0;34m\u001b[0m\u001b[0m\n\u001b[0;32m---> 24\u001b[0;31m         \u001b[0mcuisine_dict\u001b[0m\u001b[0;34m[\u001b[0m\u001b[0;34m'recipes_details'\u001b[0m\u001b[0;34m]\u001b[0m \u001b[0;34m=\u001b[0m \u001b[0mget_recipe_links\u001b[0m\u001b[0;34m(\u001b[0m\u001b[0mfilter2_value\u001b[0m\u001b[0;34m,\u001b[0m \u001b[0mcuisine_dict\u001b[0m\u001b[0;34m[\u001b[0m\u001b[0;34m'pages'\u001b[0m\u001b[0;34m]\u001b[0m\u001b[0;34m)\u001b[0m\u001b[0;34m\u001b[0m\u001b[0m\n\u001b[0m\u001b[1;32m     25\u001b[0m \u001b[0;34m\u001b[0m\u001b[0m\n\u001b[1;32m     26\u001b[0m         \"\"\"\n",
      "\u001b[0;32m<ipython-input-38-ecb8c63be2b8>\u001b[0m in \u001b[0;36mget_recipe_links\u001b[0;34m(filter2_value, pages)\u001b[0m\n\u001b[1;32m     22\u001b[0m             \u001b[0;32mprint\u001b[0m \u001b[0mpage\u001b[0m\u001b[0;34m\u001b[0m\u001b[0m\n\u001b[1;32m     23\u001b[0m             \u001b[0msleep\u001b[0m\u001b[0;34m(\u001b[0m\u001b[0mSCRAPING_REQUEST_STAGGER\u001b[0m\u001b[0;34m)\u001b[0m\u001b[0;34m\u001b[0m\u001b[0m\n\u001b[0;32m---> 24\u001b[0;31m             \u001b[0mrecipes_links_per_page\u001b[0m \u001b[0;34m=\u001b[0m \u001b[0mBeautifulSoup\u001b[0m\u001b[0;34m(\u001b[0m\u001b[0mbrowser\u001b[0m\u001b[0;34m.\u001b[0m\u001b[0mpage_source\u001b[0m\u001b[0;34m)\u001b[0m\u001b[0;34m.\u001b[0m\u001b[0mfind_all\u001b[0m\u001b[0;34m(\u001b[0m\u001b[0;34m\"div\"\u001b[0m\u001b[0;34m,\u001b[0m\u001b[0;34m{\u001b[0m\u001b[0;34m\"class\"\u001b[0m\u001b[0;34m:\u001b[0m\u001b[0;34m\"result_title\"\u001b[0m\u001b[0;34m}\u001b[0m\u001b[0;34m)\u001b[0m\u001b[0;34m\u001b[0m\u001b[0m\n\u001b[0m\u001b[1;32m     25\u001b[0m             \u001b[0mrecipe_links\u001b[0m\u001b[0;34m.\u001b[0m\u001b[0mextend\u001b[0m\u001b[0;34m(\u001b[0m\u001b[0mrecipes_links_per_page\u001b[0m\u001b[0;34m)\u001b[0m\u001b[0;34m\u001b[0m\u001b[0m\n\u001b[1;32m     26\u001b[0m             \u001b[0msleep\u001b[0m\u001b[0;34m(\u001b[0m\u001b[0mSCRAPING_REQUEST_STAGGER\u001b[0m\u001b[0;34m)\u001b[0m\u001b[0;34m\u001b[0m\u001b[0m\n",
      "\u001b[0;32m/Users/prathirebala/anaconda/lib/python2.7/site-packages/selenium/webdriver/remote/webdriver.pyc\u001b[0m in \u001b[0;36mpage_source\u001b[0;34m(self)\u001b[0m\n\u001b[1;32m    462\u001b[0m             \u001b[0mdriver\u001b[0m\u001b[0;34m.\u001b[0m\u001b[0mpage_source\u001b[0m\u001b[0;34m\u001b[0m\u001b[0m\n\u001b[1;32m    463\u001b[0m         \"\"\"\n\u001b[0;32m--> 464\u001b[0;31m         \u001b[0;32mreturn\u001b[0m \u001b[0mself\u001b[0m\u001b[0;34m.\u001b[0m\u001b[0mexecute\u001b[0m\u001b[0;34m(\u001b[0m\u001b[0mCommand\u001b[0m\u001b[0;34m.\u001b[0m\u001b[0mGET_PAGE_SOURCE\u001b[0m\u001b[0;34m)\u001b[0m\u001b[0;34m[\u001b[0m\u001b[0;34m'value'\u001b[0m\u001b[0;34m]\u001b[0m\u001b[0;34m\u001b[0m\u001b[0m\n\u001b[0m\u001b[1;32m    465\u001b[0m \u001b[0;34m\u001b[0m\u001b[0m\n\u001b[1;32m    466\u001b[0m     \u001b[0;32mdef\u001b[0m \u001b[0mclose\u001b[0m\u001b[0;34m(\u001b[0m\u001b[0mself\u001b[0m\u001b[0;34m)\u001b[0m\u001b[0;34m:\u001b[0m\u001b[0;34m\u001b[0m\u001b[0m\n",
      "\u001b[0;32m/Users/prathirebala/anaconda/lib/python2.7/site-packages/selenium/webdriver/remote/webdriver.pyc\u001b[0m in \u001b[0;36mexecute\u001b[0;34m(self, driver_command, params)\u001b[0m\n\u001b[1;32m    199\u001b[0m         \u001b[0mresponse\u001b[0m \u001b[0;34m=\u001b[0m \u001b[0mself\u001b[0m\u001b[0;34m.\u001b[0m\u001b[0mcommand_executor\u001b[0m\u001b[0;34m.\u001b[0m\u001b[0mexecute\u001b[0m\u001b[0;34m(\u001b[0m\u001b[0mdriver_command\u001b[0m\u001b[0;34m,\u001b[0m \u001b[0mparams\u001b[0m\u001b[0;34m)\u001b[0m\u001b[0;34m\u001b[0m\u001b[0m\n\u001b[1;32m    200\u001b[0m         \u001b[0;32mif\u001b[0m \u001b[0mresponse\u001b[0m\u001b[0;34m:\u001b[0m\u001b[0;34m\u001b[0m\u001b[0m\n\u001b[0;32m--> 201\u001b[0;31m             \u001b[0mself\u001b[0m\u001b[0;34m.\u001b[0m\u001b[0merror_handler\u001b[0m\u001b[0;34m.\u001b[0m\u001b[0mcheck_response\u001b[0m\u001b[0;34m(\u001b[0m\u001b[0mresponse\u001b[0m\u001b[0;34m)\u001b[0m\u001b[0;34m\u001b[0m\u001b[0m\n\u001b[0m\u001b[1;32m    202\u001b[0m             response['value'] = self._unwrap_value(\n\u001b[1;32m    203\u001b[0m                 response.get('value', None))\n",
      "\u001b[0;32m/Users/prathirebala/anaconda/lib/python2.7/site-packages/selenium/webdriver/remote/errorhandler.pyc\u001b[0m in \u001b[0;36mcheck_response\u001b[0;34m(self, response)\u001b[0m\n\u001b[1;32m    179\u001b[0m         \u001b[0;32melif\u001b[0m \u001b[0mexception_class\u001b[0m \u001b[0;34m==\u001b[0m \u001b[0mUnexpectedAlertPresentException\u001b[0m \u001b[0;32mand\u001b[0m \u001b[0;34m'alert'\u001b[0m \u001b[0;32min\u001b[0m \u001b[0mvalue\u001b[0m\u001b[0;34m:\u001b[0m\u001b[0;34m\u001b[0m\u001b[0m\n\u001b[1;32m    180\u001b[0m             \u001b[0;32mraise\u001b[0m \u001b[0mexception_class\u001b[0m\u001b[0;34m(\u001b[0m\u001b[0mmessage\u001b[0m\u001b[0;34m,\u001b[0m \u001b[0mscreen\u001b[0m\u001b[0;34m,\u001b[0m \u001b[0mstacktrace\u001b[0m\u001b[0;34m,\u001b[0m \u001b[0mvalue\u001b[0m\u001b[0;34m[\u001b[0m\u001b[0;34m'alert'\u001b[0m\u001b[0;34m]\u001b[0m\u001b[0;34m.\u001b[0m\u001b[0mget\u001b[0m\u001b[0;34m(\u001b[0m\u001b[0;34m'text'\u001b[0m\u001b[0;34m)\u001b[0m\u001b[0;34m)\u001b[0m\u001b[0;34m\u001b[0m\u001b[0m\n\u001b[0;32m--> 181\u001b[0;31m         \u001b[0;32mraise\u001b[0m \u001b[0mexception_class\u001b[0m\u001b[0;34m(\u001b[0m\u001b[0mmessage\u001b[0m\u001b[0;34m,\u001b[0m \u001b[0mscreen\u001b[0m\u001b[0;34m,\u001b[0m \u001b[0mstacktrace\u001b[0m\u001b[0;34m)\u001b[0m\u001b[0;34m\u001b[0m\u001b[0m\n\u001b[0m\u001b[1;32m    182\u001b[0m \u001b[0;34m\u001b[0m\u001b[0m\n\u001b[1;32m    183\u001b[0m     \u001b[0;32mdef\u001b[0m \u001b[0m_value_or_default\u001b[0m\u001b[0;34m(\u001b[0m\u001b[0mself\u001b[0m\u001b[0;34m,\u001b[0m \u001b[0mobj\u001b[0m\u001b[0;34m,\u001b[0m \u001b[0mkey\u001b[0m\u001b[0;34m,\u001b[0m \u001b[0mdefault\u001b[0m\u001b[0;34m)\u001b[0m\u001b[0;34m:\u001b[0m\u001b[0;34m\u001b[0m\u001b[0m\n",
      "\u001b[0;31mTimeoutException\u001b[0m: Message: timeout: Timed out receiving message from renderer: 14.693\n  (Session info: chrome=47.0.2526.106)\n  (Driver info: chromedriver=2.20.353124 (035346203162d32c80f1dce587c8154a1efa0c3b),platform=Mac OS X 10.10.5 x86_64)\n"
     ]
    }
   ],
   "source": [
    "if __name__ == '__main__':\n",
    "    \n",
    "    # list of cuisines on Saveur\n",
    "    cuisines = ['African', 'American', 'Asian', 'Cajun/Creole', 'Caribbean', 'Chinese', 'Cuban', 'Eastern European/Russian', 'English/Scottish', 'French', 'German', 'Greek', 'Indian', 'Indonesian', 'Italian', 'Japanese', 'Jewish', 'Mediterranean', 'Mexican', 'Middle Eastern', 'Moroccan', 'Scandinavian', 'Southwestern/Soul Food', 'Spanish/Portuguese', 'Tex-Mex', 'Thai', 'Vietnamese']\n",
    "    filter2_values = [1000489, 1000490, 1000491, 1000493, 1000494, 1000496, 1000497, 1000498, 1000499, 1000500, 1000501, 1000503, 1000506, 1000932, 1000508, 1000509, 1000510, 1000512, 1000513, 1000514, 1000515, 1000517, 1000518, 1000520, 1000521, 1000522, 1000525]\n",
    "    coll.delete_many({})\n",
    "    cuisine_dataframe = get_cuisine_recipes(cuisines, filter2_values)"
   ]
  },
  {
   "cell_type": "code",
   "execution_count": null,
   "metadata": {
    "collapsed": true
   },
   "outputs": [],
   "source": []
  },
  {
   "cell_type": "code",
   "execution_count": null,
   "metadata": {
    "collapsed": true
   },
   "outputs": [],
   "source": []
  },
  {
   "cell_type": "code",
   "execution_count": 28,
   "metadata": {
    "collapsed": false,
    "scrolled": true
   },
   "outputs": [
    {
     "name": "stdout",
     "output_type": "stream",
     "text": [
      "#####\n",
      "Cuisine: African \t Number of recipes: 73 \t\t Number of pages: 2\n",
      "1\n",
      "2\n",
      "[<div class=\"result_title\"><a href=\"/semolina-coconut-cake-with-orange-and-rose-waters-recipe\">Semolina Coconut Cake with Orange and Rose Water</a></div>, <div class=\"result_title\"><a href=\"/date-semolina-cookies-makroud-recipe\">Date-Filled Semolina Cookies (Makroud)</a></div>, <div class=\"result_title\"><a href=\"/sugared-rosewater-marzipan-balls-kaber-ellouz-recipe\">Sugared Rosewater Marzipan Balls (Kaber Ellouz)</a></div>, <div class=\"result_title\"><a href=\"/syrup-soaked-pastries-with-hazelnuts-pistachios-and-pine-nuts-deblah-recipe\">Syrup-Soaked Pastries with Hazelnuts, Pistachios, and Pine Nuts (Deblah)</a></div>, <div class=\"result_title\"><a href=\"/1000-hole-crepes-baghrir-recipe\">1,000-Hole Crêpes (Baghrir)</a></div>, <div class=\"result_title\"><a href=\"/shredded-collard-green-salad-roasted-sweet-potatoes-cashews-recipe\">Shredded Collard Green Salad with Roasted Sweet Potatoes and Cashews</a></div>, <div class=\"result_title\"><a href=\"/tamarind-glazed-roast-turkey-recipe\">Tamarind-Glazed Roast Turkey</a></div>, <div class=\"result_title\"><a href=\"/black-eyed-pea-hummus-west-african-chile-paste-recipe\">Black-Eyed Pea Hummus with West African Chile Paste</a></div>, <div class=\"result_title\"><a href=\"/creamed-collard-greens-peanuts-chiles-recipe\">\"Creamed\" Collard Greens with Peanut Butter and Chile</a></div>, <div class=\"result_title\"><a href=\"/fonio-pilaf-with-dates-carrots-and-peanuts-recipe\">Fonio Pilaf with Dates, Carrots, and Peanuts</a></div>, <div class=\"result_title\"><a href=\"/eritrean-spicy-tomato-bread-salad-fata-recipe\">Eritrean Spicy Tomato Bread Salad with Yogurt (Fata)</a></div>, <div class=\"result_title\"><a href=\"/article/recipes/zanzibari-pressed-sugarcane-drink\">Zanzibari Pressed Sugarcane Drink</a></div>, <div class=\"result_title\"><a href=\"/article/recipes/charmoula-stuffed-sardines\">Charmoula-Stuffed Sardines</a></div>, <div class=\"result_title\"><a href=\"/article/Recipes/Garlic-Dill-Fava-Bean-Salad\">Garlic and Dill Fava Bean Salad (Bagula)</a></div>, <div class=\"result_title\"><a href=\"/article/Recipes/Senegal-Avocado-Mango-Salad\"> Avocado–Mango Salad (Saladu Awooka àk Mango)</a></div>, <div class=\"result_title\"><a href=\"/article/recipes/south-african-avocado-mint-shake\">Avocado-Mint Shake</a></div>, <div class=\"result_title\"><a href=\"/article/Recipes/Abala-Black-Eyed-Pea-Tamales\">Abala (Black Eyed Pea Tamales)</a></div>, <div class=\"result_title\"><a href=\"/article/Recipes/Spiced-Beef-Flatbread-Khima-Chapati\">Spiced Beef Flatbread (Khima Chapati)</a></div>, <div class=\"result_title\"><a href=\"/article/Recipes/Harissa\">Harissa</a></div>, <div class=\"result_title\"><a href=\"/article/recipes/sukuma-wiki-with-matoke-beef-stew-with-mashed-plantains\">Sukuma Wiki with Matoke (Beef Stew with Mashed Plantains)</a></div>, <div class=\"result_title\"><a href=\"/article/Recipes/Senegal-Peanut-Chicken-Stew\">Senegalese Peanut and Chicken Stew (Màfe Ginaar)</a></div>, <div class=\"result_title\"><a href=\"/article/Recipes/Harissa-Hot-Wings\">Harissa Hot Wings</a></div>, <div class=\"result_title\"><a href=\"/article/Recipes/Fried-Almond-Pastries\">Fried Almond Pastries (Samsa Feuille de Brick)</a></div>, <div class=\"result_title\"><a href=\"/article/Recipes/Pastels-Fried-Fish-Pies\">Pastels (Fried Fish Pies)</a></div>, <div class=\"result_title\"><a href=\"/article/Recipes/Tunisian-Tuna-Sandwich\"> Tunisan Tuna Sandwich (Casse-Croûte Tunisien)</a></div>, <div class=\"result_title\"><a href=\"/article/Recipes/Senegal-Black-Eyed-Pea-Salad\">Saladu Ñebbe (Black-Eyed Pea Salad)</a></div>, <div class=\"result_title\"><a href=\"/article/Recipes/Algerian-Crepes\">Mahjouba (Algerian Crêpes)</a></div>, <div class=\"result_title\"><a href=\"/article/Recipes/Cornmeal-Okra-Fritters\">Cornmeal-Okra Fritters </a></div>, <div class=\"result_title\"><a href=\"/article/Recipes/Shrimp-Mozambique\">Shrimp Mozambique</a></div>, <div class=\"result_title\"><a href=\"/article/Recipes/Garifuna-Fish-Coconut-Stew\">Hudutu (Fish and Coconut Stew with Mashed Plantains)</a></div>, <div class=\"result_title\"><a href=\"/article/Recipes/Chicken-Apricot-Fig-Olive-Tagine\">Chicken Tagine with Apricots, Figs, and Olives (Tagine Djaj Bzitoun)</a></div>, <div class=\"result_title\"><a href=\"/article/Recipes/North-African-Spice-Mix\">Ras el Hanout (North African Spice Mix)</a></div>, <div class=\"result_title\"><a href=\"/article/Recipes/Classic-Ethiopian-Chicken-Stew\">Ethiopian Chicken Stew (Doro Wot)</a></div>, <div class=\"result_title\"><a href=\"/article/Recipes/Classic-West-African-Peanut-Stew\">West African Peanut Stew</a></div>, <div class=\"result_title\"><a href=\"/article/Recipes/Classic-Stewed-Fava-Beans\">Ful Medames (Stewed Fava Beans)</a></div>, <div class=\"result_title\"><a href=\"/article/Recipes/Bobotie-South-African-Meat-Pie\">South African Meat Pie (Bobotie)</a></div>, <div class=\"result_title\"><a href=\"/article/Recipes/Yassa-Poulet-Grilled-Chicken-Caramelized-Onion\">Yassa Poulet (Grilled Chicken in Caramelized Onion Sauce)</a></div>, <div class=\"result_title\"><a href=\"/article/Recipes/Senegal-Coconut-Rice-Pudding\">Sombi (Coconut Rice Pudding)</a></div>, <div class=\"result_title\"><a href=\"/article/Recipes/Senegal-Black-Eyed-Pea-Fritters\">Accara (Black-Eyed Pea Fritters)</a></div>, <div class=\"result_title\"><a href=\"/article/Recipes/Senegal-Okra-Seafood-Stew\">Okra and Seafood Stew (Soupoukandia)</a></div>, <div class=\"result_title\"><a href=\"/article/Recipes/Senegal-Fish-Rice\">Senegalese Fish and Rice (Thiéboudienne)</a></div>, <div class=\"result_title\"><a href=\"/article/Recipes/Senegal-Chile-Sauce\">Sosu Kaani (Habanero Chile Sauce)</a></div>, <div class=\"result_title\"><a href=\"/article/Recipes/Canaries-Style-Ropa-Vieja\">Canaries-Style Ropa Vieja</a></div>, <div class=\"result_title\"><a href=\"/article/Recipes/Nigerian-Meat-Pies\">Nigerian Meat Pies</a></div>, <div class=\"result_title\"><a href=\"/article/Recipes/south-african-curry-meatloaf\">Bobotie (South African Curry Meat Loaf)</a></div>, <div class=\"result_title\"><a href=\"/article/Recipes/Coconut-Milk-Caramels\">Coconut Milk Caramels</a></div>, <div class=\"result_title\"><a href=\"/article/Recipes/Fish-Balls-in-Tomato-Sauce\">Fish Balls in Tomato Sauce</a></div>, <div class=\"result_title\"><a href=\"/article/Recipes/Spiced-Lamb-Sausages\">Spiced Lamb Sausages</a></div>, <div class=\"result_title\"><a href=\"/article/Recipes/Spicy-Tomato-Relish\">Spicy Tomato Relish </a></div>, <div class=\"result_title\"><a href=\"/article/Recipes/Grilled-Whole-Fish-with-Tamarind-Samaki-Wa-Kupaka\">Grilled Whole Fish with Tamarind (Samaki Wa Kupaka)</a></div>, <div class=\"result_title\"><a href=\"/article/Recipes/Piri-Pressure\">Piri Pressure Cocktail</a></div>, <div class=\"result_title\"><a href=\"/article/Recipes/Mechwiya\">Roasted Pepper Salad (Mechwiya)</a></div>, <div class=\"result_title\"><a href=\"/article/Recipes/The-Gatsby\">The Gatsby</a></div>, <div class=\"result_title\"><a href=\"/article/Recipes/Saveur-100-2011-koshary\">Egyptian Lentil and Rice Pasta (Koshary)</a></div>, <div class=\"result_title\"><a href=\"/article/Recipes/Chicken-Stewed-in-Coconut-Milk-Kuku-Wa-Nazi\">Chicken Stewed in Coconut Milk (Kuku Wa Nazi)</a></div>, <div class=\"result_title\"><a href=\"/article/Recipes/Ginger-Crab-Mkamba-wa-Tangawizi\">Ginger Crab (Mkamba Wa Tangawizi)</a></div>, <div class=\"result_title\"><a href=\"/article/Recipes/Tomato-and-Lime-Braised-Fish-Samaki-Wa-Kukausha\">Tomato-and-Lime-Braised Fish (Samaki Wa Kukausha)</a></div>, <div class=\"result_title\"><a href=\"/article/Recipes/Piri-Piri-Prawns\">Piri-Piri Prawns</a></div>, <div class=\"result_title\"><a href=\"/article/Recipes/Stewed-Kidney-Beans-Mchuzi-Wa-Mbaazi\">Stewed Kidney Beans (Mchuzi Wa Mbaazi)</a></div>, <div class=\"result_title\"><a href=\"/article/Recipes/Charmoula\">Charmoula</a></div>, <div class=\"result_title\"><a href=\"/article/Recipes/Fried-Plantains-1000081797\">Fried Plantains</a></div>, <div class=\"result_title\"><a href=\"/article/Recipes/Jollof-Rice\">Jollof Rice</a></div>, <div class=\"result_title\"><a href=\"/article/Wine-and-Drink/Tante-Marie-Fizz\">Tante Marie Fizz</a></div>, <div class=\"result_title\"><a href=\"/article/Recipes/Moroccan-Chicken-Stew\">Moroccan Chicken Stew with Almonds and Chickpeas (Djej Kdra Touimiya)</a></div>, <div class=\"result_title\"><a href=\"/article/Recipes/Spicy-Chicken-Stew\">Spicy Ethiopian Chicken Stew (Doro Wot)</a></div>, <div class=\"result_title\"><a href=\"/article/Recipes/Ethiopian-Spice-Mix\">Ethiopian Spice Mix (Berbere)</a></div>, <div class=\"result_title\"><a href=\"/article/Recipes/Ethiopian-Flatbread\">Ethiopian Flatbread (Injera)</a></div>, <div class=\"result_title\"><a href=\"/article/Recipes/Ethiopian-Lentil-Stew\">Ethiopian Lentil Stew (Misr Wot)</a></div>, <div class=\"result_title\"><a href=\"/article/Recipes/Collard-Greens-with-Smoked-Turkey-Wings\">Collard Greens with Smoked Turkey Wings</a></div>, <div class=\"result_title\"><a href=\"/article/Recipes/Khlea\">Moroccan Preserved Meat (Khlea)</a></div>, <div class=\"result_title\"><a href=\"/article/Recipes/Okra-with-Tomatoes-and-Chickpeas\">Okra with Tomatoes and Chickpeas</a></div>, <div class=\"result_title\"><a href=\"/article/Recipes/Sweet-Pepper-Salad-\">Sweet Pepper Salad </a></div>, <div class=\"result_title\"><a href=\"/article/Recipes/Sweet-Casablanca-Couscous\">Sweet Casablanca Couscous</a></div>]\n",
      "#####\n",
      "Cuisine: American \t Number of recipes: 1992 \t\t Number of pages: 42\n",
      "[]\n",
      "#####\n",
      "Cuisine: Asian \t Number of recipes: 454 \t\t Number of pages: 10\n",
      "1\n",
      "2\n",
      "3\n",
      "4\n",
      "5\n",
      "6\n",
      "7\n",
      "8\n",
      "9\n",
      "10\n",
      "[<div class=\"result_title\"><a href=\"/japanese-green-gin-bitter-melon-cocktail-recipe\">Green Gin Cocktail</a></div>, <div class=\"result_title\"><a href=\"/braised-pork-belly-with-leeks-and-ginger-recipe\">Braised Pork Belly with Leeks and Ginger</a></div>, <div class=\"result_title\"><a href=\"/marinated-mozuku-seaweed-salad-with-cucumber-recipe\">Marinated Mozuku Seaweed with Cucumber</a></div>, <div class=\"result_title\"><a href=\"/watercress-salad-with-spicy-chile-and-sesame-vinaigrette-recipe\">Watercress with Spicy Chile and Sesame Vinaigrette</a></div>, <div class=\"result_title\"><a href=\"/bacon-xo-sauce-recipe\">Bacon XO Sauce</a></div>, <div class=\"result_title\"><a href=\"/shrimp-green-bean-stir-fry-recipe\">Stir-Fried Shrimp and Long Beans with XO Sauce</a></div>, <div class=\"result_title\"><a href=\"/korean-rice-cakes-ddukbokki-melted-cheese-recipe\">Korean Rice Cakes (Ddukbokki) with Pork Belly and Cheddar</a></div>, <div class=\"result_title\"><a href=\"/spicy-pork-belly-recipe\">Spicy Sauteed Pork Belly</a></div>, <div class=\"result_title\"><a href=\"/leftover-thanksgiving-turkey-congee-recipe\">Turkey Congee</a></div>, <div class=\"result_title\"><a href=\"/apple-and-kale-salad-with-black-sesame-maple-cashews-recipe\">Apple and Kale Salad with Black-Sesame–Maple Cashews</a></div>, <div class=\"result_title\"><a href=\"/slow-smoked-and-spice-brined-turkey-recipe\">Slow-Smoked and Spice-Brined Turkey</a></div>, <div class=\"result_title\"><a href=\"/roasted-squash-and-pork-dumplings\">Roasted Squash and Pork Dumplings</a></div>, <div class=\"result_title\"><a href=\"/stir-fried-brussels-sprouts-bacon-chestnuts-recipe\">Wok-Fried Brussels Sprouts and Bacon with Crispy Chestnuts</a></div>, <div class=\"result_title\"><a href=\"/sauteed-maitake-mushrooms-with-red-chiles-and-cilantro-recipe\">Sautéed Maitake Mushrooms with Red Chiles and Cilantro</a></div>, <div class=\"result_title\"><a href=\"/mushroom-foil-yaki-recipe\">Mixed Mushroom Foil Yaki</a></div>, <div class=\"result_title\"><a href=\"/clam-leek-mushroom-foil-yaki-recipe\">Clam, Leek, and King Oyster Mushroom Foil Yaki</a></div>, <div class=\"result_title\"><a href=\"/salmon-scallion-mushroom-foil-yaki-recipe\">Salmon, Scallion, and Enoki Mushroom Foil Yaki</a></div>, <div class=\"result_title\"><a href=\"/pork-kimchi-dumpling-potsticker-recipe\">Pork and Kimchi Potstickers</a></div>, <div class=\"result_title\"><a href=\"/adobo-chicken-wings-recipe\">Adobo Chicken Wings</a></div>, <div class=\"result_title\"><a href=\"/thai-cashew-chicken-stir-fry-easy-recipe\">Stir-fried Chicken with Cashew Nuts</a></div>, <div class=\"result_title\"><a href=\"/thai-sardine-and-lemongrass-salad-recipe\">Sardine and Lemongrass Salad</a></div>, <div class=\"result_title\"><a href=\"/korean-rice-cakes-with-honey-songpyeon\">Korean Rice Cakes with Honey (Songpyeon)</a></div>, <div class=\"result_title\"><a href=\"/spicy-smashed-cucumber-salad-recipe\">Spicy Cucumber Salad</a></div>, <div class=\"result_title\"><a href=\"/article/Recipes/Lao-Tomato-Dip\">Lao Tomato Dip</a></div>, <div class=\"result_title\"><a href=\"/teriyaki-pork-pineapple-skewers-recipe\">Pineapple and Pork Teriyaki Skewers</a></div>, <div class=\"result_title\"><a href=\"/cambodian-beef-skewers-kebabs-recipe\">Angel Cruz Beef Skewers</a></div>, <div class=\"result_title\"><a href=\"/seasoned-or-filled-onigiri-recipe\">Japanese Rice Balls (Onigiri)</a></div>, <div class=\"result_title\"><a href=\"/fish-ssam-spicy-chile-sauce\">Fish Ssäm with Spicy Chile Sauce</a></div>, <div class=\"result_title\"><a href=\"/summer-rambutan-curry-recipe\">Summer Rambutan Curry</a></div>, <div class=\"result_title\"><a href=\"/soba-noodle-salad-cucumber-ponzu-recipe\">Soba Salad with Marinated Cucumber and Ponzu</a></div>, <div class=\"result_title\"><a href=\"/article/recipes/lao-poached-bass-with-shallots-eggplant-and-chiles\">Lao Poached Bass with Shallots, Eggplant, and Chiles</a></div>, <div class=\"result_title\"><a href=\"/article/recipes/japanese-fried-chicken-wings-teba-no-karaage-recipe\">Japanese-Style Chicken Wings (Teba No Karaage)</a></div>, <div class=\"result_title\"><a href=\"/article/recipes/stir-fried-beef-and-broccoli\">Stir-fried Beef and Broccoli</a></div>, <div class=\"result_title\"><a href=\"/article/recipes/padang-style-chicken-curry-gulai-ayam\">Padang-Style Chicken Curry (Gulai Ayam)</a></div>, <div class=\"result_title\"><a href=\"/article/recipes/morels-black-bean-sauce-with-enoki-mushrooms\">Morels in Black Bean Sauce with Fried Enoki Mushrooms</a></div>, <div class=\"result_title\"><a href=\"/article/Recipes/Guam-Chicken-Red-Rice\">Guam-Style Chicken with Red Rice (Tininon Mannok Yan Hineska' Agaga)</a></div>, <div class=\"result_title\"><a href=\"/article/recipes/cacio-e-pepe-rice-with-guanciale\">Cacio e Pepe Rice with Guanciale</a></div>, <div class=\"result_title\"><a href=\"/article/recipes/razor-clams-with-white-wine-sauce\">Razor Clams Fantasia</a></div>, <div class=\"result_title\"><a href=\"/article/recipes/steamed-grouper-in-chile-oil\">Steamed Grouper in Chile Oil</a></div>, <div class=\"result_title\"><a href=\"/article/recipes/spinach-and-edamame-egg-drop-soup\">Spinach and Edamame Egg Drop Soup</a></div>, <div class=\"result_title\"><a href=\"/article/recipes/marcus-samuelssons-sho-nuff-noodles\">Sho Nuff Noodles (Spicy Lo Mein with Pickled Greens, Bok Choy and Cabbage)</a></div>, <div class=\"result_title\"><a href=\"/article/recipes/kaeng-som-kung-sour-curry-with-shrimp\">Sour Curry with Shrimp (Kaeng Som Kung)</a></div>, <div class=\"result_title\"><a href=\"/article/recipes/danny-bowiens-hanoi-style-breakfast-pho\">Danny Bowien's Hanoi-Style Breakfast Pho</a></div>, <div class=\"result_title\"><a href=\"/article/recipes/mushroom-soy-sauce\">Mushroom \"Soy\" Sauce</a></div>, <div class=\"result_title\"><a href=\"/article/Recipes/Hong-Shao-Niu-Rou-Mian-Taiwanese-Beef-Noodle-Soup\">Taiwanese Beef Noodle Soup (Hong Shao Niu Rou Mian)</a></div>, <div class=\"result_title\"><a href=\"/article/recipes/onde-onde-pandan-palm-sugar-and-coconut-dumplings\">Onde-Onde (Pandan, Palm Sugar, and Coconut Dumplings)</a></div>, <div class=\"result_title\"><a href=\"/article/recipes/indonesian-style-chicken-wings\">Indonesian Style Chicken Wings (Ayam Goreng Kuning)</a></div>, <div class=\"result_title\"><a href=\"/article/Recipes/Ants-Climbing-a-Tree\">Ma Yi Shang Shu (“Ants Climbing a Tree”)</a></div>, <div class=\"result_title\"><a href=\"/article/recipes/japanese-new-years-soup\">Japanese New Year's Soup</a></div>, <div class=\"result_title\"><a href=\"/article/recipes/braised-sea-bass-with-burdock\">Braised Sea Bass with Burdock</a></div>, <div class=\"result_title\"><a href=\"/article/recipes/ggs-garlic-ginger-and-shallot-dressing\">GGS (Garlic, Ginger, and Shallot) Dressing</a></div>, <div class=\"result_title\"><a href=\"/article/recipes/crispy-pork-belly-with-persimmons\">Crispy Pork Belly with Persimmons</a></div>, <div class=\"result_title\"><a href=\"/article/recipes/bonito-butter\">Bonito Butter</a></div>, <div class=\"result_title\"><a href=\"/article/recipes/thai-boat-noodle-soup\">Thai Boat Noodle Soup (Kuaytiaw Reua)</a></div>, <div class=\"result_title\"><a href=\"/article/recipes/mock-eel\">Mock Eel</a></div>, <div class=\"result_title\"><a href=\"/article/recipes/stir-fried-celtuce-tops-with-mushrooms\">Stir-Fried Celtuce Tops with Mushrooms (Xianggu Chao Wosun Ye)</a></div>, <div class=\"result_title\"><a href=\"/article/recipes/tofu-long-bean-and-crispy-shallot-salad\">Tofu, Long Bean, and Crispy Shallot Salad with Black Bean Vinaigrette</a></div>, <div class=\"result_title\"><a href=\"/article/Recipes/Bibimbap\">Bibimbap</a></div>, <div class=\"result_title\"><a href=\"/article/recipes/ichiban-dashi-kelp-stock\">Ichiban Dashi (Kelp Stock)</a></div>, <div class=\"result_title\"><a href=\"/article/recipes/pakistani-slow-cooked-lamb-stew-dumbay-ki-nihari\">Pakistani Slow-Cooked Lamb Stew (Dumbay ki Nihari)</a></div>, <div class=\"result_title\"><a href=\"/article/recipes/filipino-garlic-fried-rice-with-vinegar-sauce-sinangag\">Philippine Garlic Fried Rice with Vinegar Sauce (Sinangag)</a></div>, <div class=\"result_title\"><a href=\"/article/recipes/chinese-spicy-garlic-eggplant-yu-xiang-qie-zi\">Chinese Spicy Garlic Eggplant (Yu Xiang Qie Zi)</a></div>, <div class=\"result_title\"><a href=\"/article/Recipes/Sichuan-Pork-Noodle-Soup\">Sichuan Noodle and Pork Shoulder Soup (Yu Xiang Pai Gu Mian)</a></div>, <div class=\"result_title\"><a href=\"/article/recipes/garlic-condiments-suan-ni-wei-sichuan-garlic-sauce\">Suan Ni Wei</a></div>, <div class=\"result_title\"><a href=\"/article/recipes/adobong-tadyang-filipino-beef-short-ribs-adobo\">Philippine Beef Short Ribs Adobo (Adobong Tadyang)</a></div>, <div class=\"result_title\"><a href=\"/article/recipes/chuan-chuan-malaysian-pan-seared-snapper-with-garlic-and-chiles\">Chuan-Chuan (Malaysian Pan-Seared Snapper with Garlic and Chiles)</a></div>, <div class=\"result_title\"><a href=\"/article/Recipes/Classic-General-Tso-Chicken\">General Tso's Chicken</a></div>, <div class=\"result_title\"><a href=\"/article/recipes/ayam-masak-merah-malay-style-red-cooked-chicken-with-pandan\">Ayam Masak Merah (Malay-Style Red-Cooked Chicken with Pandan)</a></div>, <div class=\"result_title\"><a href=\"/article/recipes/vegetables-pickled-in-kelp-vinegar\">Vegetables Pickled in Kelp Vinegar</a></div>, <div class=\"result_title\"><a href=\"/article/recipes/makombu-squash-soup\">Makombu-Squash Soup</a></div>, <div class=\"result_title\"><a href=\"/article/recipes/kombu-and-squid-steamed-rice\">Kombu and Squid Steamed Rice</a></div>, <div class=\"result_title\"><a href=\"/article/recipes/dashi-braised-chicken-with-root-vegetables\">Dashi-Braised Chicken with Root Vegetables</a></div>, <div class=\"result_title\"><a href=\"/article/recipes/makombu-tsukudani-pickled-seaweed\">Makombu Tsukudani (Pickled Seaweed)</a></div>, <div class=\"result_title\"><a href=\"/article/Recipes/Triple-Cooked-Spareribs\">Lu Rou (Triple-Cooked Spareribs with Chiles)</a></div>, <div class=\"result_title\"><a href=\"/article/Recipes/Stuffed-Cucumber-Kimchi\">Stuffed Cucumber Kimchi</a></div>, <div class=\"result_title\"><a href=\"/article/Recipes/Beef-Rendang\">Indonesian Stewed Beef (Rendang)</a></div>, <div class=\"result_title\"><a href=\"/article/Recipes/Pops-Asian-American-Grilling-Sauce\">Pop's Asian-American Grilling Sauce</a></div>, <div class=\"result_title\"><a href=\"/article/Recipes/Hawaiian-Style-Sesame-Cabbage-Salad\">Hawaiian-Style Sesame Cabbage Salad</a></div>, <div class=\"result_title\"><a href=\"/article/Recipes/Vietnamese-Coffee-Ice-Cream\">Vietnamese Coffee Ice Cream</a></div>, <div class=\"result_title\"><a href=\"/article/Recipes/Muu-Satay-Thai-Pork-Satay\">Muu Satay (Thai Pork Satay)</a></div>, <div class=\"result_title\"><a href=\"/article/Recipes/Char-Kuey-Teow-Stir-Fried-Rice-Noodles\">Stir-Fried Rice Noodles (Char Kuey Teow)</a></div>, <div class=\"result_title\"><a href=\"/article/Recipes/Pakistani-Lamb-Biryani\">Pakistani Lamb Biryani</a></div>, <div class=\"result_title\"><a href=\"/article/recipes/gado-gado-indonesian-vegetable-salad-with-peanut-dressing\">Indonesian Vegetable Salad with Peanut Dressing (Gado-Gado)</a></div>, <div class=\"result_title\"><a href=\"/article/recipes/ayam-jeruk-grilled-chicken-and-toasted-coconut-salad\">Ayam Jeruk (Grilled Chicken and Toasted Coconut Salad)</a></div>, <div class=\"result_title\"><a href=\"/article/recipes/pandan-chiffon-cake\">Pandan Chiffon Cake</a></div>, <div class=\"result_title\"><a href=\"/article/recipes/gai-hor-bai-toey-thai-pandan-wrapped-chicken\">Gai Hor Bai Toey (Thai Pandan-Wrapped Chicken)</a></div>, <div class=\"result_title\"><a href=\"/article/Recipes/Kaffir-Lime-Gelato\">Kaffir Lime Gelato</a></div>, <div class=\"result_title\"><a href=\"/article/Recipes/Classic-Carrot-Ginger-Dressing\">Carrot-Ginger Dressing </a></div>, <div class=\"result_title\"><a href=\"/article/Recipes/Green-Beans-with-Sesame-Sauce\">Green Beans with Sesame Sauce</a></div>, <div class=\"result_title\"><a href=\"/article/recipes/seared-scallops-with-wasabi-ginger-butter\">Seared Scallops with Wasabi-Ginger Butter</a></div>, <div class=\"result_title\"><a href=\"/article/recipes/soba-noodles-with-wasabi-and-shiitake-mushrooms\">Soba Noodles with Wasabi and Shiitake Mushrooms</a></div>, <div class=\"result_title\"><a href=\"/article/recipes/wang-choy-chow-sau-braised-pork-belly\">Wang Choy Chow Sau (Braised Pork Belly)</a></div>, <div class=\"result_title\"><a href=\"/article/recipes/chao-sigua-stir-fried-loofah-with-soybeans\">Chao Sigua (Stir-Fried Loofah with Soybeans)</a></div>, <div class=\"result_title\"><a href=\"/article/recipes/tarako-spaghetti\">Tarako Spaghetti</a></div>, <div class=\"result_title\"><a href=\"/article/recipes/watermelon-radish-ahi-tuna-and-snap-pea-salad\">Watermelon Radish, Ahi Tuna, and Snap Pea Salad</a></div>, <div class=\"result_title\"><a href=\"/article/recipes/bacon-and-shrimp-fried-rice\">Bacon and Shrimp Fried Rice</a></div>, <div class=\"result_title\"><a href=\"/article/recipes/stir-fried-breakfast-noodles\">Stir-Fried Breakfast Noodles</a></div>, <div class=\"result_title\"><a href=\"/article/recipes/nian-nian-nyu-wee-steamed-bass-with-garlic-brown-bean-sauce\">Nian Nian Nyu Wee (Steamed Bass with Garlic Brown Bean Sauce)</a></div>, <div class=\"result_title\"><a href=\"/article/recipes/chut-yap-ping-onn-mixed-vegetables-in-ginger-broth\">Chut Yap Ping Onn (Mixed Vegetables in Ginger Broth)</a></div>, <div class=\"result_title\"><a href=\"/article/recipes/fu-pi-juan-steamed-tofu-skin-wrapped-pork-rolls\">Fu Pi Juan (Steamed Tofu Skin–Wrapped Pork Rolls)</a></div>, <div class=\"result_title\"><a href=\"/article/recipes/japanese-hamburger-steak\">Japanese Hamburger Steak</a></div>, <div class=\"result_title\"><a href=\"/article/recipes/sambal-goreng-tempe-fried-tempeh-in-tomato-sambal\">Sambal Goreng Tempe (Fried Tempeh in Tomato Sambal)</a></div>, <div class=\"result_title\"><a href=\"/article/recipes/mochiko-chicken-with-ponzu-sauce\">Hawaiian Fried Chicken (Mochiko Chicken with Ponzu)</a></div>, <div class=\"result_title\"><a href=\"/article/recipes/khayan-thee-hnut-burmese-eggplant-curry\">Khayan Thee Hnut (Burmese Eggplant Curry)</a></div>, <div class=\"result_title\"><a href=\"/article/Recipes/Korean-Fried-Chicken-Recipe\">Korean Fried Chicken</a></div>, <div class=\"result_title\"><a href=\"/article/Recipes/Egg-Foo-Yung\">Egg Foo Yung</a></div>, <div class=\"result_title\"><a href=\"/article/Recipes/Asian-Greens-with-Garlic-Sauce\">Choy Sum (Asian Greens) with Garlic Sauce</a></div>, <div class=\"result_title\"><a href=\"/article/recipes/jing-lou-yu-cantonese-style-steamed-sea-bass\">Jing Lou Yu (Cantonese-Style Steamed Sea Bass)</a></div>, <div class=\"result_title\"><a href=\"/article/Recipes/Radish-Kimchi\">Radish Kimchi</a></div>, <div class=\"result_title\"><a href=\"/article/recipes/sardine-miso-ball-soup\">Sardine Miso Ball Soup </a></div>, <div class=\"result_title\"><a href=\"/article/recipes/japanese-battleship-curry\">Japanese Battleship Curry</a></div>, <div class=\"result_title\"><a href=\"/article/recipes/perkedel-kenteng-padang-style-mashed-potato-fritters\">Perkedel Kenteng (Padang-Style Mashed Potato Fritters)</a></div>, <div class=\"result_title\"><a href=\"/article/recipes/gulai-masin-kepala-ikan-padang-style-red-snapper-curry\">Gulai Masin Kepala Ikan (Padang-Style Red Snapper Curry)</a></div>, <div class=\"result_title\"><a href=\"/article/recipes/ikan-balado-padang-style-grilled-mackerel-with-sambal\">Ikan Balado (Padang-Style Grilled Mackerel with Sambal)</a></div>, <div class=\"result_title\"><a href=\"/article/recipes/burhani-bangladeshi-spiced-yogurt-drink\">Burhani (Bangladeshi Spiced Yogurt Drink)</a></div>, <div class=\"result_title\"><a href=\"/article/Recipes/Soy-SauceMarinated-Ribs\">Hawaiian-Style Pork Ribs</a></div>, <div class=\"result_title\"><a href=\"/article/Recipes/Mapo-Tofu\">Sichuan Tofu and Ground Beef in Red Chile Sauce (Mapo Tofu)</a></div>, <div class=\"result_title\"><a href=\"/article/Recipes/Mo-Gu-Miantiao-Tang-Mushroom-Noodle-Soup\">Mushroom Noodle Soup (Mo Gu Miantiao Tang) </a></div>, <div class=\"result_title\"><a href=\"/article/Recipes/Pork-and-Chive-Dumplings-Shui-Jiao\">Pork and Chive Dumplings (Shui Jiao)</a></div>, <div class=\"result_title\"><a href=\"/article/recipes/kopi-telur-padang-style-egg-coffee\">Kopi Telur (Padang-Style Egg Coffee)</a></div>, <div class=\"result_title\"><a href=\"/article/Recipes/Hoppers\">Hoppers (Sri Lankan Crêpes with Onion Sambol and Egg)</a></div>, <div class=\"result_title\"><a href=\"/article/recipes/sencha-sour\">Sencha Sour</a></div>, <div class=\"result_title\"><a href=\"/article/recipes/dan-dan-mian-sichuan-noodles-with-spicy-pork-sauce\">Sichuan Noodles with Spicy Pork Sauce (Dan Dan Mian)</a></div>, <div class=\"result_title\"><a href=\"/article/recipes/glaceed-bananas\">Glacéed Bananas</a></div>, <div class=\"result_title\"><a href=\"/article/recipes/shanghai-stir-fry-rice-cake-recipe\">Shanghai Stir-Fried Rice Cakes (Chao Nian Gao)</a></div>, <div class=\"result_title\"><a href=\"/article/recipes/bindaeduk-cho-kanjang-korean-mung-bean-pancakes-with-dipping-sauce\">Bindaeduk Cho Kanjang (Korean Mung Bean Pancakes with Dipping Sauce)</a></div>, <div class=\"result_title\"><a href=\"/article/recipes/su-jung-kwa-rye-spiked-cinnamon-tea\">Su Jung Kwa (Rye-Spiked Cinnamon Tea)</a></div>, <div class=\"result_title\"><a href=\"/article/recipes/ginger-cookies-dipped-in-honey-yak-kwa\">Ginger Cookies Dipped in Honey (Yak Kwa)</a></div>, <div class=\"result_title\"><a href=\"/article/recipes/ponzu-sauce\">Ponzu Sauce</a></div>, <div class=\"result_title\"><a href=\"/article/Recipes/Classic-Dry-Fry-Green-Bean\">Sichuan-Style Dry-Fried Green Beans (Gan Bian Si Ji)</a></div>, <div class=\"result_title\"><a href=\"/article/Recipes/Singaporean-Black-Pepper-Crab-Legs\">Singaporean Black Pepper Crab Legs</a></div>, <div class=\"result_title\"><a href=\"/article/Recipes/Broiled-Crab-Legs-With-Yuzu-Kosho-Sabayon\">Broiled Crab Legs with Sake and Yuzu Kosho Sabayon</a></div>, <div class=\"result_title\"><a href=\"/article/Recipes/Sichuan-Tea-Smoked-Duck\">Sichuan Tea-Smoked Duck</a></div>, <div class=\"result_title\"><a href=\"/article/Recipes/Bebek-Batutu-Balinese-Roast-Duck\">Bebek Betutu (Balinese Roast Duck)</a></div>, <div class=\"result_title\"><a href=\"/article/recipes/toasted-sesame-highball\">Toasted Sesame Highball</a></div>, <div class=\"result_title\"><a href=\"/article/Recipes/Pho-Bac\">Pho Bac</a></div>, <div class=\"result_title\"><a href=\"/article/Recipes/Meiwei-Mogu-Naiyou-Dong-Zhrou-Savory-Mushroom-and-Pork-Custard\">Meiwei Mogu Naiyou Dong Zhrou (Savory Mushroom and Pork Custard) </a></div>, <div class=\"result_title\"><a href=\"/article/Recipes/Pickled-Asian-Pears-with-Lemon\">Pickled Asian Pears with Lemon</a></div>, <div class=\"result_title\"><a href=\"/article/recipes/phat-phrik-khing-muu-red-curry-with-pork-belly-and-green-beans\">Phat Phrik Khing Muu (Red Curry with Pork Belly and Green Beans)</a></div>, <div class=\"result_title\"><a href=\"/article/recipes/kaeng-khiaw-waan-green-curry-with-fish-and-eggplant\">Green Curry with Fish and Eggplant (Kaeng Khiaw Waan)</a></div>, <div class=\"result_title\"><a href=\"/article/recipes/kaeng-karii-yellow-curry-with-beef-and-potatoes\">Kaeng Kàrìi (Yellow Curry with Beef and Potatoes)</a></div>, <div class=\"result_title\"><a href=\"/article/Recipes/Cantonese-Roast-Pork-Buns\">Char Siu Bao (Roast Pork Buns)</a></div>, <div class=\"result_title\"><a href=\"/article/recipes/cauliflower-cabbage-and-carrot-achar-malaysian-style-pickle\">Cauliflower, Cabbage, and Carrot Achaar (Malaysian-Style Pickle)</a></div>, <div class=\"result_title\"><a href=\"/article/Recipes/Kong-Bao-Ji-Ding\">Kung Pao Chicken</a></div>, <div class=\"result_title\"><a href=\"/article/Recipes/Sweet-Miso-Corn-Cakes-with-Basil-Parsley-Pesto\">Sweet Miso Corn Cakes with Basil Parsley Pesto</a></div>, <div class=\"result_title\"><a href=\"/article/Recipes/Piquant-Pickled-Pineapple\">Piquant Pickled Pineapple</a></div>, <div class=\"result_title\"><a href=\"/article/Recipes/Pandan-Leaf-Ice-Cream\">Pandan-Coconut Ice Cream</a></div>, <div class=\"result_title\"><a href=\"/article/Recipes/Popiah-Fresh-Spring-Rolls\">Popiah (Fresh Spring Rolls)</a></div>, <div class=\"result_title\"><a href=\"/article/Recipes/Coriander-and-Lime-Chicken-Wings\">Coriander and Lime Chicken Wings</a></div>, <div class=\"result_title\"><a href=\"/article/Recipes/Bun-Cha-Vietnamese-Pork-Meatball-Noodle-Salad\">Vietnamese Pork Meatball and Noodle Salad (Bun Cha)</a></div>, <div class=\"result_title\"><a href=\"/article/Recipes/Grilled-Scallion-Skewers\">Kao Xiang Cong (Grilled Scallion Skewers)</a></div>, <div class=\"result_title\"><a href=\"/article/Recipes/Beijing-Chicken-Wings\">Mi Zhi Ji Chi Chuan (Beijing Chicken Wings)</a></div>, <div class=\"result_title\"><a href=\"/article/Recipes/tandoori-champ-Indian-Lamb-Ribs\">Tandoori Champ (Indian Lamb Ribs)</a></div>, <div class=\"result_title\"><a href=\"/article/Recipes/Cambodian-Style-Ginger-Lemongrass-Baby-Back-Ribs\">Chrong Chomnei Jrok Oeng (Cambodian-Style Ginger Lemongrass Baby Backs)</a></div>, <div class=\"result_title\"><a href=\"/article/Recipes/Gai-Yahng-Thai-Grilled-Chicken-with-Sweet-Chile-Sauce\">Gai Yahng (Thai Grilled Chicken with Sweet Chile Sauce)</a></div>, <div class=\"result_title\"><a href=\"/article/Recipes/Spicy-Yuba-Stir-Fry-with-Edamame\">Spicy Yuba Stir-Fry with Edamame</a></div>, <div class=\"result_title\"><a href=\"/article/Recipes/Kalbi-Korean-Grilled-Beef-Ribs\">Kalbi (Korean Grilled Beef Ribs)</a></div>, <div class=\"result_title\"><a href=\"/article/Recipes/Banana-Coconut-Packets\">Banana-Coconut Packets</a></div>, <div class=\"result_title\"><a href=\"/article/Recipes/Tadashis-Grilled-Tomatoes\">Tadashi's Grilled Tomatoes</a></div>, <div class=\"result_title\"><a href=\"/miso-scallions\">Miso Roasted Scallions</a></div>, <div class=\"result_title\"><a href=\"/article/Recipes/Crispy-Duck-with-Udon-Noodles\">Crispy Duck with Udon Noodles</a></div>, <div class=\"result_title\"><a href=\"/article/Recipes/Cardamom-Syrup-Donuts\">Gulab Jamun (Cardamom Syrup-Soaked Donuts)</a></div>, <div class=\"result_title\"><a href=\"/article/Recipes/Sichuan-Pork-Wontons\">Sichuan Pork Wontons (Chao Shou)</a></div>, <div class=\"result_title\"><a href=\"/article/Recipes/Matcha-Green-Tea-Glaze\">Matcha Green Tea Glaze</a></div>, <div class=\"result_title\"><a href=\"/article/Recipes/Crispy-Roast-Pork-Siew-Yoke\">Crispy Roast Pork Belly (Siew Yoke)</a></div>, <div class=\"result_title\"><a href=\"/article/Recipes/Sichuan-Fried-Eggplant\">Yu Xiang Qie Zi (Sichuanese Fried Eggplant)</a></div>, <div class=\"result_title\"><a href=\"/article/Recipes/Sichuan-Pork-Noodle-Soup-1000092125\">Sichuan Noodle and Pork Shoulder Soup (Yu Xiang Pai Gu Mian)</a></div>, <div class=\"result_title\"><a href=\"/article/Recipes/Pork-Oyster-Meatballs\">Tangcu Muli Rouwan (Sweet and Sour Pork and Oyster Meatballs)</a></div>, <div class=\"result_title\"><a href=\"/article/Recipes/Sichuan-Red-Chile-Oil\">Sichuan Red Chile Oil (Hong You)</a></div>, <div class=\"result_title\"><a href=\"/article/Recipes/Philippine-Style-Brioche\">Philippine-Style Brioche</a></div>, <div class=\"result_title\"><a href=\"/article/Recipes/Kimchi-Pancakes\">Kimchi Pancakes</a></div>, <div class=\"result_title\"><a href=\"/article/Recipes/Luo-Go-Bao\">Luo Go Bao (Daikon Cake with Garlic Hoisin Sauce)</a></div>, <div class=\"result_title\"><a href=\"/article/Recipes/Sesame-Chile-Ramen\">Sesame and Chile Ramen (Tantanmen)</a></div>, <div class=\"result_title\"><a href=\"/article/Recipes/Hong-Kong-Coffee-Tea\">Hong Kong-style Coffee with Sweetened Milk Tea (Yuanyang)</a></div>, <div class=\"result_title\"><a href=\"/article/Recipes/Indonesian-Coffee-Ginger\">Kopi Jahe (Indonesian Coffee with Ginger)</a></div>, <div class=\"result_title\"><a href=\"/article/Recipes/Chap-Chae\">Korean Noodles with Beef and Vegetables (Chap Chae)</a></div>, <div class=\"result_title\"><a href=\"/article/Recipes/Classic-Sesame-Noodles\">Cold Sesame Noodles</a></div>, <div class=\"result_title\"><a href=\"/article/Recipes/Classic-Bulgogi\">Bulgogi (Korean Barbecue Beef)</a></div>, <div class=\"result_title\"><a href=\"/article/Recipes/Classic-Green-Curry-Chicken\">Green Curry Chicken </a></div>, <div class=\"result_title\"><a href=\"/article/Recipes/Classic-Salmon-Teriyaki\">Salmon Teriyaki </a></div>, <div class=\"result_title\"><a href=\"/article/Recipes/Classic-Indonesian-Fried-Rice\">Indonesian Fried Rice (Nasi Goreng)</a></div>, <div class=\"result_title\"><a href=\"/article/Recipes/Japanese-Style-Linguine-with-Clams\">Japanese-Style Linguine with Clams</a></div>, <div class=\"result_title\"><a href=\"/article/Recipes/Saveur-100-2011-Grilled-Scallops-with-Yuzu-Kosho-Vinaigrette\">Grilled Scallops with Yuzu Kosho Vinaigrette </a></div>, <div class=\"result_title\"><a href=\"/article/Recipes/Ice-Cream-Loti\">Ice Cream Loti (Singapore Ice Cream Sandwich)</a></div>, <div class=\"result_title\"><a href=\"/article/Recipes/Singapore-Sling\">Singapore Sling</a></div>, <div class=\"result_title\"><a href=\"/article/Recipes/Pickled-Radishes-and-Green-Onion\">Pickled Radishes and Green Onion</a></div>, <div class=\"result_title\"><a href=\"/article/Recipes/Coconut-Chicken-Salad\">Guam-Style Chicken Salad (Kelaguen Mannok)</a></div>, <div class=\"result_title\"><a href=\"/article/Recipes/Spicy-Shiso-Smash\">Spicy Shiso Smash</a></div>, <div class=\"result_title\"><a href=\"/article/Recipes/Vietnamese-Lettuce-Wraps\">Vietnamese Lettuce Wraps</a></div>, <div class=\"result_title\"><a href=\"/article/Recipes/Smoked-Coconut-Cheesecake\">Smoked Coconut Cheesecake</a></div>, <div class=\"result_title\"><a href=\"/article/Recipes/Thai-Chile-Dip\">Nahm Prik Noom (Thai Chile Dip)</a></div>, <div class=\"result_title\"><a href=\"/article/Recipes/Sweet-Sour-Shrimp\">Gan Shao Xia (Sweet and Sour Shrimp)</a></div>, <div class=\"result_title\"><a href=\"/article/Recipes/Panang-Chicken-Curry\">Panang Chicken Curry (Gaeng Panang Gai)</a></div>, <div class=\"result_title\"><a href=\"/article/Recipes/Shanghainese-Tomato-Beef\">Homestyle Tomato Beef Stir-fry</a></div>, <div class=\"result_title\"><a href=\"/article/Recipes/Chile-Miso-Chicken-Wings\">Chile-Miso Chicken Wings</a></div>, <div class=\"result_title\"><a href=\"/article/Recipes/Plenty-Ottolenghi-Black-Pepper-Tofu\">Black Pepper Tofu</a></div>, <div class=\"result_title\"><a href=\"/article/Recipes/vietnamese-pork-chops\">Vietnamese Caramelized Pork Chops (Suon Nuong)</a></div>, <div class=\"result_title\"><a href=\"/article/Recipes/soy-chili-sauce\">Soy-Chili Sauce</a></div>, <div class=\"result_title\"><a href=\"/article/Recipes/limequat-drink\">Jin Ju Nin Meng (Limequat Drink with Honey and Sour Plums)</a></div>, <div class=\"result_title\"><a href=\"/article/Recipes/sweet-and-sour-chicken\">Mugua Ji (Sweet and Sour Chicken Stir-Fry)</a></div>, <div class=\"result_title\"><a href=\"/article/Recipes/filipinio-meatloaf\">Embutido (Filipino Meat Loaf)</a></div>, <div class=\"result_title\"><a href=\"/article/Recipes/Kaffir-Lime-Sour-with-Ginger\">Kaffir Lime Sour with Ginger</a></div>, <div class=\"result_title\"><a href=\"/article/Recipes/Noodles-with-Fried-Scallions-Cong-You-Ban-Mian\">Noodles with Fried Scallions (Cong You Ban Mian)</a></div>, <div class=\"result_title\"><a href=\"/article/Recipes/Ikan-Sumbat-Chile-Fried-Fish\">Ikan Sumbat (Chile Fried Fish) </a></div>, <div class=\"result_title\"><a href=\"/article/Recipes/Nasi-Lemak-Coconut-Rice\">Nasi Lemak (Coconut Rice)</a></div>, <div class=\"result_title\"><a href=\"/article/Recipes/Har-Gao-Shrimp-Dumplings\">Har Gao (Shrimp Dumplings)</a></div>, <div class=\"result_title\"><a href=\"/article/Recipes/Aloo-Gobi-Curried-Cauliflower-and-Potatoes\">Aloo Gobi (Curried Cauliflower and Potatoes)</a></div>, <div class=\"result_title\"><a href=\"/article/Recipes/Rendang-Ayam-Spiced-Chicken-Rendang\">Rendang Ayam (Spiced Chicken Rendang)</a></div>, <div class=\"result_title\"><a href=\"/article/Recipes/Tauge-Goreng-Stir-Fried-Bean-Sprouts-With-Chinese-Chives\">Tauge Goreng (Stir-Fried Bean Sprouts With Chinese Chives)</a></div>, <div class=\"result_title\"><a href=\"/article/Recipes/Jiyou-Jun-Bao-Ji-Clay-Pot-Chicken-with-Chanterelles\"> Clay-Pot Chicken with Chanterelles (Jiyou Jun Bao Ji)</a></div>, <div class=\"result_title\"><a href=\"/article/Recipes/Zhurou-Chao-Mogu-Pork-and-Mushroom-Stir-Fry\">Zhurou Chao Mogu (Pork and Mushroom Stir-Fry) </a></div>, <div class=\"result_title\"><a href=\"/article/Recipes/Muer-Maodou-Shala-Wood-Ear-Mushroom-Salad-with-Edamame\">Mu'er Maodou Shala (Wood Ear Mushroom Salad with Edamame) </a></div>, <div class=\"result_title\"><a href=\"/article/Recipes/Beer-Steamed-Crabs\">Beer-Steamed Crabs</a></div>, <div class=\"result_title\"><a href=\"/article/Recipes/Romaine-Salad-with-Plum-Ginger-Dressing\">Romaine Salad with Plum Ginger Dressing</a></div>, <div class=\"result_title\"><a href=\"/article/Recipes/Jiyou-Jun-Chao-Ji-Chicken-Stir-Fry-with-Chanterelles\">Jiyou Jun Chao Ji (Chicken Stir-Fry with Chanterelles) </a></div>, <div class=\"result_title\"><a href=\"/article/Recipes/Liang-Ban-Mushroom-Salad-with-Chiles\">Liang Ban (Mushroom Salad with Chiles) </a></div>, <div class=\"result_title\"><a href=\"/article/Recipes/Xiang-Gu-You-Mushroom-Infused-Oil\">Xiang Gu You (Mushroom-Infused Oil) </a></div>, <div class=\"result_title\"><a href=\"/article/Recipes/Xiachao-Niugan-Jun-Stir-Fried-Mushrooms-with-Bacon-Green-Chiles-and-Scallions\">Stir-Fried Mushrooms with Bacon, Green Chiles, and Scallions (Xiachao Niugan Jun) </a></div>, <div class=\"result_title\"><a href=\"/article/Recipes/Quinoa-Salad-with-Frisee-Eggplant-and-Corn\">Quinoa Salad with Frisee, Eggplant, and Corn </a></div>, <div class=\"result_title\"><a href=\"/article/Recipes/Japanese-Style-Fried-Brown-Rice\">Japanese-Style Fried Brown Rice</a></div>, <div class=\"result_title\"><a href=\"/article/Recipes/Satay-Udang-Shrimp-Satay\">Satay Udang (Shrimp Satay)</a></div>, <div class=\"result_title\"><a href=\"/article/Recipes/Shrimp-and-Pea-Shoot-Dumplings\">Har Gow (Shrimp and Pea Shoot Dumplings)</a></div>, <div class=\"result_title\"><a href=\"/article/Recipes/Miso-Marinated-Salmon-with-Green-Sauce\">Miso-Marinated Salmon with Green Sauce</a></div>, <div class=\"result_title\"><a href=\"/article/Recipes/Chile-Rubbed-Beef-Satay\">Beef Satay</a></div>, <div class=\"result_title\"><a href=\"/article/Recipes/Hoi-Malaeng-Puu-Southern-Thai-Style-Mussel-Satay\">Hoi Malaeng Puu (Southern Thai-Style Mussel Satay)</a></div>, <div class=\"result_title\"><a href=\"/article/Recipes/Lemongrass-Pork-Satay\">Lemongrass Pork Satay</a></div>, <div class=\"result_title\"><a href=\"/article/Recipes/Sambal-Kecap-Sweet-Soy-Dipping-Sauce\">Sambal Kecap (Sweet Soy Dipping Sauce) </a></div>, <div class=\"result_title\"><a href=\"/article/Recipes/Saus-Kacang-Tanah-Javanese-Peanut-Sauce\">Saus Kacang Tanah (Javanese Peanut Sauce)</a></div>, <div class=\"result_title\"><a href=\"/article/Recipes/Satay-Ayam-Chicken-Satay\">Satay Ayam (Chicken Satay)</a></div>, <div class=\"result_title\"><a href=\"/article/Recipes/Acar-Timun-Javanese-Cucumber-and-Carrot-Pickle\">Acar Timun (Javanese Cucumber and Carrot Pickle) </a></div>, <div class=\"result_title\"><a href=\"/article/Recipes/Satay-Kambing-Lamb-Satay\">Satay Kambing (Lamb Satay)</a></div>, <div class=\"result_title\"><a href=\"/article/Recipes/Satay-Lilit-Balinese-Tuna-Satay\">Satay Lilit (Balinese Tuna Satay)</a></div>, <div class=\"result_title\"><a href=\"/article/Recipes/SPAM-and-Cheese-Sandwich\">SPAM and Cheese Sandwich</a></div>, <div class=\"result_title\"><a href=\"/article/Recipes/Steamed-Fish-with-Ginger-and-Scallions-Ging-Zheng-Yu\">Steamed Fish with Ginger and Scallions (Ging Zheng Yu)</a></div>, <div class=\"result_title\"><a href=\"/article/Recipes/Everyday-Fried-Noodles-Tian-Tian-Chao-Mian\">Everyday Fried Noodles (Tian Tian Chao Mian)</a></div>, <div class=\"result_title\"><a href=\"/article/Recipes/Napa-and-Red-Onion-Salad\">Napa and Red Onion Salad</a></div>, <div class=\"result_title\"><a href=\"/article/Recipes/Chicken-Shui-Jiao\">Chicken Shui Jiao (Boiled Chicken Dumplings)</a></div>, <div class=\"result_title\"><a href=\"/article/Recipes/Yuanxiao-Dumplings\">Yuanxiao (Walnut- and Almond-filled Sweet Rice Dumplings)</a></div>, <div class=\"result_title\"><a href=\"/article/Recipes/Saveur-100-2011-XO-Sauce\">XO Sauce</a></div>, <div class=\"result_title\"><a href=\"/article/Recipes/Ginger-Scallion-Noodles\">Momofuku Ginger Scallion Noodles</a></div>, <div class=\"result_title\"><a href=\"/article/Recipes/Sea-Bream-and-Turnip-Hot-Pot-Tai-Kabura\">Tai Kabura (Sea Bream and Turnip Hot Pot) </a></div>, <div class=\"result_title\"><a href=\"/article/Recipes/Stir-Fried-Loofah-Chao-Sigua-1000085225\">Chao Sigua (Stir-Fried Loofah)</a></div>, <div class=\"result_title\"><a href=\"/article/Recipes/Dim-Sum-Funeral-Pork-Bao\">Dim Sum Funeral: Pork Bao </a></div>, <div class=\"result_title\"><a href=\"/article/Recipes/Roast-Duck-Bao\">Roast Duck Bao</a></div>, <div class=\"result_title\"><a href=\"/article/Recipes/Stewed-Pork-Over-Rice-Lu-Rou-Fan\">Stewed Pork Over Rice (Lu Rou Fan)</a></div>, <div class=\"result_title\"><a href=\"/article/Recipes/Sweet-and-Sour-Potatoes-Tang-Cu-Tudou-Si\">Sweet and Sour Potatoes (Tang Cu Tudou Si)</a></div>, <div class=\"result_title\"><a href=\"/article/Recipes/Stir-Fried-Beef-and-Green-Chiles-Qingjia-Chao-Niuliu\">Stir-Fried Beef and Green Chiles (Qingjia Chao Niuliu) </a></div>, <div class=\"result_title\"><a href=\"/article/Recipes/Sour-Fried-Pork-Cutlets-Hong-Zao-Zha-Zhu-Pai\">Sour Fried Pork Cutlets (Hong Zao Zha Zhu Pai)</a></div>, <div class=\"result_title\"><a href=\"/article/Recipes/Burmese-Chile-Chicken\">Burmese Chile Chicken</a></div>, <div class=\"result_title\"><a href=\"/article/Recipes/Stir-Fried-Mushrooms-and-Bok-Choy-Donggu-Pei-Shucai\">Donggu Pei Shucai (Stir-Fried Mushrooms and Bok Choy)</a></div>, <div class=\"result_title\"><a href=\"/article/Recipes/Red-Cooked-Pork-Belly-Hong-Shao-Rou\">Hong Shao Rou (Red-Cooked Pork Belly)</a></div>, <div class=\"result_title\"><a href=\"/article/Recipes/Stir-Fried-Tomato-and-Eggs-Xihongshi-Chao-Jidan\">Xihongshi Chao Jidan (Stir-Fried Tomato and Eggs)</a></div>, <div class=\"result_title\"><a href=\"/article/Recipes/Stir-Fried-Pork-with-Leeks-Cong-Bao-Rou-Si\">Cong Bao Rou Si (Stir-Fried Pork with Leeks)</a></div>, <div class=\"result_title\"><a href=\"/article/Recipes/Stir-Fried-Chicken-with-Celery-Jirou-Chao-Qincai\">Jirou Chao Qincai (Stir-Fried Chicken with Celery)</a></div>, <div class=\"result_title\"><a href=\"/article/Recipes/Shrimp-Ravioli-with-Spinach-and-Ginger\">Shrimp Ravioli with Spinach and Ginger</a></div>, <div class=\"result_title\"><a href=\"/article/Recipes/Kabocha-Squash-with-Ginger-Chao-Nan-Gua\">Kabocha Squash with Ginger (Chao Nan Gua)</a></div>, <div class=\"result_title\"><a href=\"/article/Recipes/Sesame-Oil-Chicken-Ma-You-Ji\">Sesame Oil Chicken (Ma You Ji) </a></div>, <div class=\"result_title\"><a href=\"/article/Recipes/Garlic-Chives-with-Pork-Cang-Ying-Tou\">Garlic Chives with Pork (Cang Ying Tou)</a></div>, <div class=\"result_title\"><a href=\"/article/Recipes/Vietnamese-Beef-Noodle-Soup-Pho-Bo-1000081365\">Vietnamese Beef Noodle Soup (Pho Bo)</a></div>, <div class=\"result_title\"><a href=\"/article/Recipes/Spice-Braised-Tuna-Ikan-Bumbu-Rujak\">Ikan Bumbu Rujak (Spice-Braised Tuna)</a></div>, <div class=\"result_title\"><a href=\"/article/Recipes/Indonesian-Chicken-Curry\">Indonesian Chicken Curry</a></div>, <div class=\"result_title\"><a href=\"/article/Recipes/Kale-and-Avocado-Salad\">Kale and Avocado Salad</a></div>, <div class=\"result_title\"><a href=\"/article/Recipes/Shanghai-Chicken-Wings\">Shanghai Chicken Wings</a></div>, <div class=\"result_title\"><a href=\"/article/Recipes/Korean-Dipping-Sauce\">Korean Dipping Sauce</a></div>, <div class=\"result_title\"><a href=\"/article/Recipes/Cabbage-Kimchi\">Cabbage Kimchi</a></div>, <div class=\"result_title\"><a href=\"/article/Recipes/Water-Kimchi\">Water Kimchi</a></div>, <div class=\"result_title\"><a href=\"/article/Recipes/Kimchi-Stew\">Kimchi Stew</a></div>, <div class=\"result_title\"><a href=\"/article/Recipes/Seaweed-and-Dried-Fish-Broth\">Seaweed and Dried Fish Broth</a></div>, <div class=\"result_title\"><a href=\"/article/Recipes/Mixed-Green-Salad-with-Sichuan-Peppercorns\">Mixed Green Salad with Sichuan Peppercorns</a></div>, <div class=\"result_title\"><a href=\"/article/Recipes/Sauted-Chinese-Broccoli\">Sautéed Chinese Broccoli</a></div>, <div class=\"result_title\"><a href=\"/article/Recipes/Stir-Fried-Iceberg-Lettuce\">Stir-Fried Iceberg Lettuce</a></div>, <div class=\"result_title\"><a href=\"/article/Recipes/Chinese-Minced-Chicken-Wraps\">Chinese Minced Chicken Wraps</a></div>, <div class=\"result_title\"><a href=\"/article/Recipes/Catfish-Simmered-in-Caramel-Sauce\">Catfish Simmered in Caramel Sauce</a></div>, <div class=\"result_title\"><a href=\"/article/Recipes/Lotus-Stem-Salad\">Lotus Stem Salad</a></div>, <div class=\"result_title\"><a href=\"/article/Recipes/Pork-Hocks-Simmered-with-Bamboo-Shoots\">Pork Hocks Simmered with Bamboo Shoots</a></div>, <div class=\"result_title\"><a href=\"/article/Recipes/Carrot-and-Daikon-Pickle\">Carrot and Daikon Pickle</a></div>, <div class=\"result_title\"><a href=\"/article/Recipes/Banana-Coconut-and-Tapioca-Pearl-Soup\">Banana, Coconut, and Tapioca Pearl Soup</a></div>, <div class=\"result_title\"><a href=\"/article/Recipes/Classic-Vietnamese-Dipping-Sauce\">Classic Vietnamese Dipping Sauce</a></div>, <div class=\"result_title\"><a href=\"/article/Recipes/Pickled-Seaweed-Salad\">Pickled Seaweed Salad</a></div>, <div class=\"result_title\"><a href=\"/article/Recipes/Pork-Belly-Soft-Tofu-Hot-Pot-1000068951\">Pork Belly Soft-Tofu Hot Pot</a></div>, <div class=\"result_title\"><a href=\"/article/Recipes/Boiled-Dumplings\">Boiled Dumplings</a></div>, <div class=\"result_title\"><a href=\"/article/Recipes/Philippine-Vegetable-Stew\">Philippine Vegetable Stew</a></div>, <div class=\"result_title\"><a href=\"/article/Recipes/Chicken-Adobo\">Chicken Adobo</a></div>, <div class=\"result_title\"><a href=\"/article/Recipes/Prawns-in-Coconut-Milk\">Prawns in Coconut Milk</a></div>, <div class=\"result_title\"><a href=\"/article/Recipes/Coconut-Squash-Custard\">Coconut Squash Custard</a></div>, <div class=\"result_title\"><a href=\"/article/Recipes/Minced-Pork-Salad\">Minced Pork Salad</a></div>, <div class=\"result_title\"><a href=\"/article/Recipes/Rice-Porridge\">Rice Porridge</a></div>, <div class=\"result_title\"><a href=\"/article/Recipes/Egg-Miso-Sauce\">Egg Miso Sauce (Tama Miso)</a></div>, <div class=\"result_title\"><a href=\"/article/Recipes/Pickled-Cauliflower\">Pickled Cauliflower</a></div>, <div class=\"result_title\"><a href=\"/article/Recipes/Smashed-Cucumbers-with-Ginger\">Smashed Cucumbers with Ginger</a></div>, <div class=\"result_title\"><a href=\"/article/Recipes/Japanese-Buckwheat-Noodles\">Zaru Soba (Japanese Buckwheat Noodles)</a></div>, <div class=\"result_title\"><a href=\"/article/Recipes/Yellowtail-and-White-Radish\">Buri Daikon (Yellowtail and White Radish)</a></div>, <div class=\"result_title\"><a href=\"/article/Recipes/Snowpot-Soup\">Yukinabe (Snowpot Soup)</a></div>, <div class=\"result_title\"><a href=\"/article/Recipes/Vietnamese-Green-Papaya-Salad-with-Beef-Jerky\">Vietnamese Green Papaya Salad with Beef Jerky</a></div>, <div class=\"result_title\"><a href=\"/article/Recipes/Wok-Charred-Long-Beans-with-Black-Olives\">Wok-Charred Long Beans with Black Olives</a></div>, <div class=\"result_title\"><a href=\"/article/Recipes/Rumaki-21391856\">Rumaki</a></div>, <div class=\"result_title\"><a href=\"/article/Recipes/Vietnamese-Dipping-Sauce-21391828\">Vietnamese Dipping Sauce (Nu'ó'c Châ´m)</a></div>, <div class=\"result_title\"><a href=\"/article/Recipes/Chinese-Barbecued-Spareribs\">Chinese Barbecued Spareribs</a></div>, <div class=\"result_title\"><a href=\"/article/Recipes/Dipping-Sauce-1000008143\">Asian Dipping Sauce</a></div>, <div class=\"result_title\"><a href=\"/article/Recipes/Spring-Rolls\">Spring Rolls</a></div>, <div class=\"result_title\"><a href=\"/article/Wine-and-Drink/Side-Mui\">Side Mui</a></div>, <div class=\"result_title\"><a href=\"/article/Recipes/Fried-Rice\">Fried Rice</a></div>, <div class=\"result_title\"><a href=\"/article/Recipes/Stir-Fried-Smoky-Bacon-with-Smoked-Tofu\">Stir-Fried Smoky Bacon with Smoked Tofu</a></div>, <div class=\"result_title\"><a href=\"/article/Recipes/Hunanese-Home-Style-Tofu\">Hunanese Home-Style Tofu</a></div>, <div class=\"result_title\"><a href=\"/article/Recipes/Water-Spinach-with-Garlic-and-Fermented-Tofu\">Water Spinach with Garlic and Fermented Tofu</a></div>, <div class=\"result_title\"><a href=\"/article/Recipes/Zhangguying-Style-Braised-Fried-Tofu\">Zhangguying-Style Braised Fried Tofu</a></div>, <div class=\"result_title\"><a href=\"/article/Recipes/Spareribs-and-Dried-Tofu-Stick-Soup\">Spareribs and Dried Tofu Stick Soup</a></div>, <div class=\"result_title\"><a href=\"/article/Recipes/Foreigner-Roll\">Foreigner Roll (Flang Roll)</a></div>, <div class=\"result_title\"><a href=\"/article/Recipes/Hue-Style-Spicy-Beef-and-Rice-Noodle-Soup\">Huê´-Style Spicy Beef and Rice Noodle Soup (Bún Bò Huê´)</a></div>, <div class=\"result_title\"><a href=\"/article/Recipes/Pineapple-and-Jicama-Salad\">Pineapple and Jicama Salad (Rojak)</a></div>, <div class=\"result_title\"><a href=\"/article/Recipes/Oven-Dried-Spicy-Pineapple-Snacks\">Oven-Dried Spicy Pineapple Snacks</a></div>, <div class=\"result_title\"><a href=\"/article/Recipes/Fish-Curry-with-Potatoes\">Kare Ikan (Fish Curry with Potatoes)</a></div>, <div class=\"result_title\"><a href=\"/article/Recipes/Festive-Yellow-Rice\">Nasi Kuning (Festive Yellow Rice)</a></div>, <div class=\"result_title\"><a href=\"/article/Recipes/Indonesian-Spice-Cake\">Spekkuk Bumbu (Indonesian Spice Cake)</a></div>, <div class=\"result_title\"><a href=\"/article/Recipes/Banda-Style-Tuna-Falafel\">Sasatay (Banda-Style Tuna Falafel)</a></div>, <div class=\"result_title\"><a href=\"/article/Recipes/Long-Beans-with-Sweet-Soy-Sauce\">Kacang Panjang Kecap (Long Beans with Sweet Soy Sauce)</a></div>, <div class=\"result_title\"><a href=\"/article/Recipes/Fried-Shallots\">Fried Shallots</a></div>, <div class=\"result_title\"><a href=\"/article/Recipes/Shanghai-Soup-Dumplings\">Shanghai Soup Dumplings (Xiao Long Bao)</a></div>, <div class=\"result_title\"><a href=\"/article/Recipes/Stir-Fried-Baby-Bok-Choy\">Stir-Fried Baby Bok Choy</a></div>, <div class=\"result_title\"><a href=\"/article/Recipes/Chowchow-21031582\">Chowchow</a></div>, <div class=\"result_title\"><a href=\"/article/Recipes/Crab-Rangoon\">Crab Rangoon</a></div>, <div class=\"result_title\"><a href=\"/article/Recipes/Cold-Udon\">Cold Udon</a></div>, <div class=\"result_title\"><a href=\"/article/Recipes/Fresh-Udon\">Fresh Udon</a></div>, <div class=\"result_title\"><a href=\"/article/Recipes/Myanmar-Style-Long-Bean-Salad\">Myanmar-Style Long Bean Salad (Pei Daunt Shay Thoke)</a></div>, <div class=\"result_title\"><a href=\"/article/Recipes/Vegetable-Curry\">Vegetable Curry</a></div>, <div class=\"result_title\"><a href=\"/article/Recipes/Chilled-Drunken-Chicken-with-Rice-Wine-Granita\">Chilled Drunken Chicken with Rice Wine Granita (Bingzhen Huangjiu Ji)</a></div>, <div class=\"result_title\"><a href=\"/article/Recipes/Philippine-Sour-Shrimp-Stew\">Philippine Sour Shrimp Stew (Sinigang na Hipon)</a></div>, <div class=\"result_title\"><a href=\"/article/Recipes/Daikon-and-Sunflower-Sprout-Salad\">Daikon and Sunflower Sprout Salad</a></div>, <div class=\"result_title\"><a href=\"/article/Recipes/Chile-Ginger-Sambal\">Chile–Ginger Sambal</a></div>, <div class=\"result_title\"><a href=\"/article/Recipes/Ginger-Sauce\">Ginger Sauce</a></div>, <div class=\"result_title\"><a href=\"/article/Recipes/Mee-Swa-Soup-with-Ground-Pork-and-Fish-Balls\">Mee Swa Soup with Ground Pork and Fish Balls</a></div>, <div class=\"result_title\"><a href=\"/article/Recipes/Kway-Teow-Soup-with-Shrimp-and-Pork\">Kway Teow Soup with Shrimp and Pork</a></div>, <div class=\"result_title\"><a href=\"/article/Recipes/Chile-Fish-Sauce\">Chile Fish Sauce</a></div>, <div class=\"result_title\"><a href=\"/article/Recipes/Chinese-Mustard-Greens-Soup\">Chinese Mustard Greens Soup</a></div>, <div class=\"result_title\"><a href=\"/article/Recipes/Chile-Scallion-Relish\">Chile–Scallion Relish</a></div>, <div class=\"result_title\"><a href=\"/article/Recipes/Stir-Fried-Yam-Leaves-with-Onions\">Stir-Fried Yam Leaves with Onions</a></div>, <div class=\"result_title\"><a href=\"/article/Recipes/Stir-Fried-Bitter-Melon-with-Chicken-Wings\">Stir-Fried Bitter Melon with Chicken Wings</a></div>, <div class=\"result_title\"><a href=\"/article/Recipes/Stir-Fried-Angled-Luffa-with-Beef\">Stir-Fried Angled Luffa with Beef</a></div>, <div class=\"result_title\"><a href=\"/article/Recipes/Korean-Style-Carrot-Salad\">Korean-Style Carrot Salad</a></div>, <div class=\"result_title\"><a href=\"/article/Recipes/Tagliolini-with-True-Clams\">Tagliolini with True Clams</a></div>, <div class=\"result_title\"><a href=\"/article/Recipes/Sweet-and-Sour-Prawn-Soup\">Tom Yum Goong (Sweet and Sour Prawn Soup)</a></div>, <div class=\"result_title\"><a href=\"/article/Recipes/Stir-Fried-Rice-Vermicelli-with-Black-Pepper-and-Chinese-Chives\">Mee Teow (Stir-Fried Rice Vermicelli with Black Pepper and Chinese Chives)</a></div>, <div class=\"result_title\"><a href=\"/article/Recipes/Thai-Style-Chicken-Biriyani\">Thai-Style Chicken Biriyani</a></div>, <div class=\"result_title\"><a href=\"/article/Recipes/Pork-Curry-with-Green-Mango\">Pork Curry with Green Mango</a></div>, <div class=\"result_title\"><a href=\"/article/Recipes/Dried-Shrimp-and-Dried-Shrimp-Paste-Relish\">Dried Shrimp and Dried Shrimp Paste Relish</a></div>, <div class=\"result_title\"><a href=\"/article/Recipes/Fish-and-Tomato-Curry\">Fish and Tomato Curry</a></div>, <div class=\"result_title\"><a href=\"/article/Recipes/Stir-Fried-Water-Spinach-with-Straw-Mushrooms\">Stir-Fried Water Spinach with Straw Mushrooms</a></div>, <div class=\"result_title\"><a href=\"/article/Recipes/Burmese-Steamed-Rice\">Burmese Steamed Rice</a></div>, <div class=\"result_title\"><a href=\"/article/Recipes/Ginger-Salad\">Ginger Salad</a></div>, <div class=\"result_title\"><a href=\"/article/Recipes/Fried-Calabash-Fingers-with-Tamarind-Dipping-Sauce\">Fried Calabash Fingers with Tamarind Dipping Sauce</a></div>, <div class=\"result_title\"><a href=\"/article/Recipes/Beef-Slow-Cooked-in-Coconut-Milk-with-Spices-\">Beef Slow-Cooked in Coconut Milk with Spices </a></div>, <div class=\"result_title\"><a href=\"/article/Recipes/Cucumber-and-Egg-Salad-\">Cucumber and Egg Salad </a></div>, <div class=\"result_title\"><a href=\"/article/Recipes/Yellow-Fish-Curry-\">Yellow Fish Curry </a></div>, <div class=\"result_title\"><a href=\"/article/Recipes/Grilled-Chicken-Curry\">Grilled-Chicken Curry</a></div>, <div class=\"result_title\"><a href=\"/article/Recipes/Fried-Potatoes-with-Chile-Paste-\">Fried Potatoes with Chile Paste </a></div>, <div class=\"result_title\"><a href=\"/article/Recipes/Avocado-Shake-\">Avocado Shake (Es Pokat)</a></div>, <div class=\"result_title\"><a href=\"/article/Recipes/Indonesian-Steamed-White-Rice-\">Indonesian Steamed White Rice </a></div>, <div class=\"result_title\"><a href=\"/article/Recipes/Siu-Mai\">Siu Mai (Open-Face Pork and Shrimp Dumplings)</a></div>, <div class=\"result_title\"><a href=\"/article/Recipes/Fried-Taugeh\">Stir-Fried Bean Sprouts (Taugeh Goreng)</a></div>, <div class=\"result_title\"><a href=\"/article/Recipes/Nyonya-Udang-Masak-Nanas\">Nyonya Udang Masak Nanas (Shrimp and Pineapple Curry)</a></div>, <div class=\"result_title\"><a href=\"/article/Recipes/Serikaya-\">Coconut Jam (Serikaya)</a></div>, <div class=\"result_title\"><a href=\"/article/Recipes/Ketumbar-Chicken\">Ketumbar Chicken (Braised Chicken with Coriander)</a></div>, <div class=\"result_title\"><a href=\"/article/Recipes/Teh-Alia-\">Ginger Milk Tea (Teh Alia)</a></div>, <div class=\"result_title\"><a href=\"/article/Recipes/Congee\">Congee</a></div>, <div class=\"result_title\"><a href=\"/article/Recipes/Steamed-Sea-Bass\">Steamed Sea Bass</a></div>, <div class=\"result_title\"><a href=\"/article/Recipes/Stir-Fried-Scallops\">Stir-Fried Scallops</a></div>, <div class=\"result_title\"><a href=\"/article/Recipes/Stir-Fried-Chinese-Cabbage-with-Ham\">Stir-Fried Chinese Cabbage with Ham</a></div>, <div class=\"result_title\"><a href=\"/article/Recipes/Pickled-Young-Ginger\">Pickled Young Ginger</a></div>, <div class=\"result_title\"><a href=\"/article/Recipes/Spareribs\">Spareribs</a></div>, <div class=\"result_title\"><a href=\"/kecap-manis-sweet-soy-sauce-recipe\">Kecap Manis</a></div>, <div class=\"result_title\"><a href=\"/article/Recipes/Mixed-Greens-with-Spicy-Ponzu-Dressing\">Mixed Greens with Spicy Ponzu Dressing</a></div>, <div class=\"result_title\"><a href=\"/article/Recipes/Tibetan-Fried-Noodles\">Tibetan Fried Noodles</a></div>, <div class=\"result_title\"><a href=\"/article/Recipes/Shrimp-Dumplings\">Har Kau (Shrimp Dumplings)</a></div>, <div class=\"result_title\"><a href=\"/article/Recipes/Braised-Ginger-Chicken\">Hongzao Chiang Chi (Braised Ginger Chicken)</a></div>, <div class=\"result_title\"><a href=\"/article/Recipes/Shrimp-and-Lamb-Satays\">Shrimp and Lamb Satays</a></div>, <div class=\"result_title\"><a href=\"/article/Recipes/Satay-Sauce\">Satay Sauce</a></div>, <div class=\"result_title\"><a href=\"/article/Recipes/Fried-Bananas-\">Fried Bananas (Kluai Khaek)</a></div>, <div class=\"result_title\"><a href=\"/article/Recipes/Green-Chile-Sauce-\">Nam Prik Noom (Green Chile Sauce)</a></div>, <div class=\"result_title\"><a href=\"/article/Recipes/Pacific-Rim-Glazed-Flank-Steak\">Pacific Rim Glazed Flank Steak</a></div>, <div class=\"result_title\"><a href=\"/article/Recipes/Chicken-Sate-with-Spiced-Peanut-Sauce-and-a-Chile-and-Sweet-Soy-Sauce-Condiment-\">Grilled Chicken Skewers with Spicy Peanut Sauce and Sweet Chile-Soy Condiment (Sate Ayam dengan Saus Kacang dan Sambal Kecap)</a></div>, <div class=\"result_title\"><a href=\"/article/Recipes/Asparagus-Shandong-Style-\">Asparagus Shandong-Style (Liang Ban Lu-Sun)</a></div>, <div class=\"result_title\"><a href=\"/article/Recipes/Green-Mango-Salad-with-Grilled-Beef-\">Green Mango Salad with Grilled Beef </a></div>, <div class=\"result_title\"><a href=\"/article/Recipes/Spicy-Cabbage-and-Chicken-Salad-\">Spicy Cabbage and Chicken Salad </a></div>, <div class=\"result_title\"><a href=\"/article/Recipes/Stir-Fried-Shrimp-with-Snow-Peas\">Stir-Fried Shrimp with Snow Peas</a></div>, <div class=\"result_title\"><a href=\"/article/Recipes/Hong-Shao-Yu-\">Red-Cooked Fish (Hong Shao Yu)</a></div>, <div class=\"result_title\"><a href=\"/article/Recipes/Si-Xi-Kaufu-\">Si Xi Kaufu (Four Happiness Wheat Gluten)</a></div>, <div class=\"result_title\"><a href=\"/article/Recipes/Hong-Shao-Ji-\">Red-Cooked Chicken (Hong Shao Ji)</a></div>, <div class=\"result_title\"><a href=\"/article/Recipes/Multicultural-Stuffing-\">Multicultural Stuffing </a></div>, <div class=\"result_title\"><a href=\"/article/Recipes/Crisp-Celery-Green-Fritters\">Crisp Celery Green Fritters</a></div>, <div class=\"result_title\"><a href=\"/article/Recipes/Stir-Fried-Green-Beans-a-la-Tang\">Stir-Fried Green Beans à la Tang</a></div>, <div class=\"result_title\"><a href=\"/article/Recipes/Spiced-Mung-Bean-Dessert-Porridge\">Spiced Mung Bean Dessert Porridge</a></div>, <div class=\"result_title\"><a href=\"/article/Recipes/Asian-Green-Salad-with-Sweet-Shallot-Vinaigrette\">Asian Green Salad with Sweet Shallot Vinaigrette</a></div>, <div class=\"result_title\"><a href=\"/article/Recipes/Steamed-Choy-Sum-with-Sweet-Shallot-Vinaigrette\">Steamed Choy Sum with Sweet Shallot Vinaigrette</a></div>, <div class=\"result_title\"><a href=\"/article/Recipes/Chinese-Cabbage-Salad-with-Scallions-and-Roasted-Peanuts\">Chinese Cabbage Salad with Scallions and Roasted Peanuts</a></div>, <div class=\"result_title\"><a href=\"/article/Recipes/Pickled-Mustard-Greens\">Pickled Mustard Greens</a></div>, <div class=\"result_title\"><a href=\"/article/Recipes/Pea-Shoots-with-Fermented-Bean-Curd\">Pea Shoots with Fermented Bean Curd</a></div>, <div class=\"result_title\"><a href=\"/article/Recipes/Hanoi-Noodle-Soup-with-Chicken-Baby-Tatsoi-and-Bok-Choy\">Hanoi Noodle Soup with Chicken, Baby Tatsoi, and Bok Choy</a></div>, <div class=\"result_title\"><a href=\"/article/Recipes/Pappardelle-Over-Wilted-Asian-Greens\">Pappardelle Over Wilted Asian Greens</a></div>, <div class=\"result_title\"><a href=\"/article/Recipes/Braised-Duck-Legs-with-Mustard-Greens-and-Bok-Choy\">Braised Duck Legs with Mustard Greens and Bok Choy</a></div>, <div class=\"result_title\"><a href=\"/article/Recipes/Seppis-BBQ-Shrimp-with-Lemongrass\">Seppi's BBQ Shrimp with Lemongrass</a></div>, <div class=\"result_title\"><a href=\"/article/Recipes/Lemongrass-Syrup\">Lemongrass Syrup</a></div>, <div class=\"result_title\"><a href=\"/article/Recipes/Saimin\">Saimin</a></div>, <div class=\"result_title\"><a href=\"/article/Recipes/Chicken-Teriyaki\">Chicken Teriyaki</a></div>, <div class=\"result_title\"><a href=\"/article/Recipes/Azuki-Bean-Ice-Cream\">Azuki Bean Ice Cream</a></div>, <div class=\"result_title\"><a href=\"/article/Recipes/Pake-Noodles\">Pake Noodles</a></div>, <div class=\"result_title\"><a href=\"/article/Recipes/Broiled-Beef-Scallion-Rolls\">Broiled Beef–Scallion Rolls</a></div>, <div class=\"result_title\"><a href=\"/article/Recipes/Lee-Wan-Chings-Sizzling-Pepper-and-Salt-Shrimp\">Lee Wan Ching's Sizzling Pepper and Salt Shrimp</a></div>, <div class=\"result_title\"><a href=\"/article/Recipes/Suan-La-Tang\">Suan La Tang (Hot and Sour Soup)</a></div>, <div class=\"result_title\"><a href=\"/article/Recipes/Pork-Adobo\">Adobo</a></div>, <div class=\"result_title\"><a href=\"/article/Recipes/Seafood-Pancake\">Seafood Pancake</a></div>, <div class=\"result_title\"><a href=\"/article/Recipes/Pork-and-Shrimp-Sauce\">Pork and Shrimp Sauce</a></div>, <div class=\"result_title\"><a href=\"/article/Recipes/Fried-Stuffed-Milkfish\">Fried Stuffed Milkfish</a></div>, <div class=\"result_title\"><a href=\"/article/Recipes/Shrimp-in-Caul-Fat\">Shrimp in Caul Fat</a></div>, <div class=\"result_title\"><a href=\"/article/Recipes/Seafood-and-Rice-Soup\">Seafood and Rice Soup</a></div>, <div class=\"result_title\"><a href=\"/article/Recipes/Tainan-Style-Noodles\">Tainan Style Noodles</a></div>, <div class=\"result_title\"><a href=\"/article/Recipes/Crab-with-Sticky-Rice\">Crab with Sticky Rice</a></div>, <div class=\"result_title\"><a href=\"/article/Recipes/Dan-Dan-Noodles\">Dan Dan Noodles</a></div>, <div class=\"result_title\"><a href=\"/article/Recipes/Spicy-Chicken-Vegetable-Soup-with-Fresh-Herbs-\">Spicy Chicken Vegetable Soup with Fresh Herbs </a></div>, <div class=\"result_title\"><a href=\"/article/Recipes/Jaga-imo-Manju\">Jaga-imo Manju (Shrimp-Stuffed Potato Buns)</a></div>, <div class=\"result_title\"><a href=\"/article/Recipes/Yu-Xiang-Xia-Zi\">Deep-Fried Prawns with Garlic Chile Sauce</a></div>, <div class=\"result_title\"><a href=\"/article/Recipes/Zhang-Cha-Ya-Zi\">Tea-Smoked Duck</a></div>, <div class=\"result_title\"><a href=\"/article/Recipes/Jiang-Zhi-Bo-Cai\">Spinach with Fried Ginger</a></div>, <div class=\"result_title\"><a href=\"/article/Recipes/Shrimp-and-Sweet-Potato-Fritters\">Shrimp and Sweet Potato Fritters</a></div>, <div class=\"result_title\"><a href=\"/article/Recipes/Vietnamese-Stuffed-Steamed-Fish\">Vietnamese Stuffed Steamed Fish</a></div>, <div class=\"result_title\"><a href=\"/article/Recipes/Pad-Thai\">Pad Thai</a></div>, <div class=\"result_title\"><a href=\"/article/Recipes/Sweetbreads-with-Black-Mushrooms-and-Oyster-Sauce\">Sweetbreads with Black Mushrooms and Oyster Sauce</a></div>, <div class=\"result_title\"><a href=\"/article/Recipes/Beef-and-Noodle-Soup\">Beef and Noodle Soup</a></div>, <div class=\"result_title\"><a href=\"/article/Recipes/Beef-Grilled-in-Grape-Leaves\">Beef Grilled in Grape Leaves</a></div>, <div class=\"result_title\"><a href=\"/article/Recipes/Prepared-Fish-Sauce\">Prepared Fish Sauce</a></div>, <div class=\"result_title\"><a href=\"/article/Recipes/Cured-Beef-Salad\">Cured Beef Salad</a></div>, <div class=\"result_title\"><a href=\"/article/Recipes/Soup-with-Fish-Coconut-Milk-and-Bamboo-Shoots\">Soup with Fish, Coconut Milk, and Bamboo Shoots</a></div>, <div class=\"result_title\"><a href=\"/article/Recipes/Chicken-Satay-with-Spiced-Peanut-Sauce\">Chicken Satay with Spiced Peanut Sauce</a></div>, <div class=\"result_title\"><a href=\"/article/Recipes/Stir-Fried-Rice-Cake\">Duk Bok Ki (Stir-Fried Rice Cake)</a></div>, <div class=\"result_title\"><a href=\"/article/Recipes/Sichuan-Pepper-Salt\">Sichuan Pepper-Salt</a></div>, <div class=\"result_title\"><a href=\"/article/Recipes/Scallions-and-Carrots\">Scallions and Carrots</a></div>, <div class=\"result_title\"><a href=\"/article/Recipes/Korean-Barbecue-\">Korean Barbecue </a></div>, <div class=\"result_title\"><a href=\"/article/Recipes/Stir-Fried-Glass-Noodles\">Stir-Fried Glass Noodles</a></div>, <div class=\"result_title\"><a href=\"/article/Recipes/Sashimi\">Sashimi</a></div>, <div class=\"result_title\"><a href=\"/article/Recipes/Number-Two-Soup-Stock\">'Number Two' Soup Stock</a></div>, <div class=\"result_title\"><a href=\"/article/Recipes/Two-Sides-Brown\">Two Sides Brown</a></div>, <div class=\"result_title\"><a href=\"/article/Recipes/Fresh-Wheat-Noodles-with-Sesame-Sauce\">Fresh Wheat Noodles with Sesame Sauce</a></div>, <div class=\"result_title\"><a href=\"/article/Recipes/Fresh-Rice-Sheets-with-Shrimp\">Fresh Rice Sheets with Shrimp</a></div>, <div class=\"result_title\"><a href=\"/article/Recipes/Silver-Pin-Noodles-with-Chicken\">Silver Pin Noodles with Chicken</a></div>, <div class=\"result_title\"><a href=\"/article/Recipes/Braised-Bean-Threads-with-Mushrooms-and-Cabbage\">Braised Bean Threads with Mushrooms and Cabbage</a></div>, <div class=\"result_title\"><a href=\"/article/Recipes/Rice-Vermicelli-with-Chicken-Soup\">Rice Vermicelli with Chicken Soup</a></div>, <div class=\"result_title\"><a href=\"/article/Recipes/Egg-Noodles-with-Beef-and-Chinese-Broccoli\">Lo Mian (Egg Noodles with Beef and Chinese Broccoli)</a></div>, <div class=\"result_title\"><a href=\"/article/Recipes/Grilled-Jumbo-Shrimp\">Grilled Jumbo Shrimp</a></div>, <div class=\"result_title\"><a href=\"/article/Recipes/C224-Nuong-Grilled-Eggplant-with-Garlic-and-Scallions\">Cà Nuong (Grilled Eggplant with Garlic and Scallions)</a></div>, <div class=\"result_title\"><a href=\"/article/Recipes/Eggplant-in-Garlic-Sauce\">Eggplant in Garlic Sauce</a></div>, <div class=\"result_title\"><a href=\"/article/Recipes/Beijing-Style-Congee\">Beijing-Style Congee</a></div>, <div class=\"result_title\"><a href=\"/article/Recipes/Eggplant-with-Spicy-Sauce\">Eggplant with Spicy Sauce</a></div>, <div class=\"result_title\"><a href=\"/article/Recipes/Garlic-Noodles\">Garlic Noodles</a></div>, <div class=\"result_title\"><a href=\"/article/Recipes/Bok-Choy-with-Black-Mushrooms\">Bok Choy with Black Mushrooms</a></div>, <div class=\"result_title\"><a href=\"/article/Recipes/Coconut-Pudding\">Coconut Pudding</a></div>]\n"
     ]
    },
    {
     "ename": "CannotSendRequest",
     "evalue": "",
     "output_type": "error",
     "traceback": [
      "\u001b[0;31m---------------------------------------------------------------------------\u001b[0m",
      "\u001b[0;31mCannotSendRequest\u001b[0m                         Traceback (most recent call last)",
      "\u001b[0;32m<ipython-input-28-38eedde3edc5>\u001b[0m in \u001b[0;36m<module>\u001b[0;34m()\u001b[0m\n\u001b[1;32m      5\u001b[0m     \u001b[0mfilter2_values\u001b[0m \u001b[0;34m=\u001b[0m \u001b[0;34m[\u001b[0m\u001b[0;36m1000489\u001b[0m\u001b[0;34m,\u001b[0m \u001b[0;36m1000490\u001b[0m\u001b[0;34m,\u001b[0m \u001b[0;36m1000491\u001b[0m\u001b[0;34m,\u001b[0m \u001b[0;36m1000493\u001b[0m\u001b[0;34m,\u001b[0m \u001b[0;36m1000494\u001b[0m\u001b[0;34m,\u001b[0m \u001b[0;36m1000496\u001b[0m\u001b[0;34m,\u001b[0m \u001b[0;36m1000497\u001b[0m\u001b[0;34m,\u001b[0m \u001b[0;36m1000498\u001b[0m\u001b[0;34m,\u001b[0m \u001b[0;36m1000499\u001b[0m\u001b[0;34m,\u001b[0m \u001b[0;36m1000500\u001b[0m\u001b[0;34m,\u001b[0m \u001b[0;36m1000501\u001b[0m\u001b[0;34m,\u001b[0m \u001b[0;36m1000503\u001b[0m\u001b[0;34m,\u001b[0m \u001b[0;36m1000506\u001b[0m\u001b[0;34m,\u001b[0m \u001b[0;36m1000932\u001b[0m\u001b[0;34m,\u001b[0m \u001b[0;36m1000508\u001b[0m\u001b[0;34m,\u001b[0m \u001b[0;36m1000509\u001b[0m\u001b[0;34m,\u001b[0m \u001b[0;36m1000510\u001b[0m\u001b[0;34m,\u001b[0m \u001b[0;36m1000512\u001b[0m\u001b[0;34m,\u001b[0m \u001b[0;36m1000513\u001b[0m\u001b[0;34m,\u001b[0m \u001b[0;36m1000514\u001b[0m\u001b[0;34m,\u001b[0m \u001b[0;36m1000515\u001b[0m\u001b[0;34m,\u001b[0m \u001b[0;36m1000517\u001b[0m\u001b[0;34m,\u001b[0m \u001b[0;36m1000518\u001b[0m\u001b[0;34m,\u001b[0m \u001b[0;36m1000520\u001b[0m\u001b[0;34m,\u001b[0m \u001b[0;36m1000521\u001b[0m\u001b[0;34m,\u001b[0m \u001b[0;36m1000522\u001b[0m\u001b[0;34m,\u001b[0m \u001b[0;36m1000525\u001b[0m\u001b[0;34m]\u001b[0m\u001b[0;34m\u001b[0m\u001b[0m\n\u001b[1;32m      6\u001b[0m     \u001b[0;31m#coll.delete_many({})\u001b[0m\u001b[0;34m\u001b[0m\u001b[0;34m\u001b[0m\u001b[0m\n\u001b[0;32m----> 7\u001b[0;31m     \u001b[0mcuisine_dataframe\u001b[0m \u001b[0;34m=\u001b[0m \u001b[0mget_cuisine_recipes\u001b[0m\u001b[0;34m(\u001b[0m\u001b[0mcuisines\u001b[0m\u001b[0;34m,\u001b[0m \u001b[0mfilter2_values\u001b[0m\u001b[0;34m)\u001b[0m\u001b[0;34m\u001b[0m\u001b[0m\n\u001b[0m\u001b[1;32m      8\u001b[0m \u001b[0;34m\u001b[0m\u001b[0m\n",
      "\u001b[0;32m<ipython-input-27-5e1ad707ab5f>\u001b[0m in \u001b[0;36mget_cuisine_recipes\u001b[0;34m(cuisines, filter2_values)\u001b[0m\n\u001b[1;32m     12\u001b[0m \u001b[0;34m\u001b[0m\u001b[0m\n\u001b[1;32m     13\u001b[0m         \u001b[0;31m# obtain the number of recipes for each cuisine\u001b[0m\u001b[0;34m\u001b[0m\u001b[0;34m\u001b[0m\u001b[0m\n\u001b[0;32m---> 14\u001b[0;31m         \u001b[0mcuisine_dict\u001b[0m\u001b[0;34m[\u001b[0m\u001b[0;34m'num_recipes'\u001b[0m\u001b[0;34m]\u001b[0m \u001b[0;34m=\u001b[0m \u001b[0mget_number_of_recipes\u001b[0m\u001b[0;34m(\u001b[0m\u001b[0mfilter2_value\u001b[0m\u001b[0;34m)\u001b[0m\u001b[0;34m\u001b[0m\u001b[0m\n\u001b[0m\u001b[1;32m     15\u001b[0m \u001b[0;34m\u001b[0m\u001b[0m\n\u001b[1;32m     16\u001b[0m         \u001b[0;31m# convert number of recipes into pages to scrape\u001b[0m\u001b[0;34m\u001b[0m\u001b[0;34m\u001b[0m\u001b[0m\n",
      "\u001b[0;32m<ipython-input-5-a54a31227abe>\u001b[0m in \u001b[0;36mget_number_of_recipes\u001b[0;34m(filter2_value)\u001b[0m\n\u001b[1;32m      4\u001b[0m     \u001b[0;31m# create a full link using the cuisine_link and cuisine name to obtain web content from link\u001b[0m\u001b[0;34m\u001b[0m\u001b[0;34m\u001b[0m\u001b[0m\n\u001b[1;32m      5\u001b[0m     \u001b[0mcuisine_link\u001b[0m \u001b[0;34m=\u001b[0m \u001b[0mCUISINE_URL\u001b[0m\u001b[0;34m.\u001b[0m\u001b[0mformat\u001b[0m\u001b[0;34m(\u001b[0m\u001b[0mfilter2_value\u001b[0m\u001b[0;34m)\u001b[0m\u001b[0;34m\u001b[0m\u001b[0m\n\u001b[0;32m----> 6\u001b[0;31m     \u001b[0mcuisine_recipes\u001b[0m \u001b[0;34m=\u001b[0m \u001b[0mget_content_from_dynamic_url\u001b[0m\u001b[0;34m(\u001b[0m\u001b[0mcuisine_link\u001b[0m\u001b[0;34m)\u001b[0m\u001b[0;34m\u001b[0m\u001b[0m\n\u001b[0m\u001b[1;32m      7\u001b[0m \u001b[0;34m\u001b[0m\u001b[0m\n\u001b[1;32m      8\u001b[0m     \u001b[0;31m# if no content is returned from the cuisine link page\u001b[0m\u001b[0;34m\u001b[0m\u001b[0;34m\u001b[0m\u001b[0m\n",
      "\u001b[0;32m<ipython-input-4-eb982d82b2be>\u001b[0m in \u001b[0;36mget_content_from_dynamic_url\u001b[0;34m(link)\u001b[0m\n\u001b[1;32m      6\u001b[0m         \u001b[0mbrowser\u001b[0m\u001b[0;34m.\u001b[0m\u001b[0mget\u001b[0m\u001b[0;34m(\u001b[0m\u001b[0mlink\u001b[0m\u001b[0;34m)\u001b[0m\u001b[0;34m\u001b[0m\u001b[0m\n\u001b[1;32m      7\u001b[0m     \u001b[0;32mexcept\u001b[0m\u001b[0;34m:\u001b[0m\u001b[0;34m\u001b[0m\u001b[0m\n\u001b[0;32m----> 8\u001b[0;31m         \u001b[0mpage_source\u001b[0m \u001b[0;34m=\u001b[0m \u001b[0mbrowser\u001b[0m\u001b[0;34m.\u001b[0m\u001b[0mpage_source\u001b[0m\u001b[0;34m\u001b[0m\u001b[0m\n\u001b[0m\u001b[1;32m      9\u001b[0m         \u001b[0mbrowser\u001b[0m\u001b[0;34m.\u001b[0m\u001b[0mclose\u001b[0m\u001b[0;34m(\u001b[0m\u001b[0;34m)\u001b[0m\u001b[0;34m\u001b[0m\u001b[0m\n\u001b[1;32m     10\u001b[0m         \u001b[0;32mreturn\u001b[0m \u001b[0mpage_source\u001b[0m\u001b[0;34m\u001b[0m\u001b[0m\n",
      "\u001b[0;32m/Users/prathirebala/anaconda/lib/python2.7/site-packages/selenium/webdriver/remote/webdriver.pyc\u001b[0m in \u001b[0;36mpage_source\u001b[0;34m(self)\u001b[0m\n\u001b[1;32m    462\u001b[0m             \u001b[0mdriver\u001b[0m\u001b[0;34m.\u001b[0m\u001b[0mpage_source\u001b[0m\u001b[0;34m\u001b[0m\u001b[0m\n\u001b[1;32m    463\u001b[0m         \"\"\"\n\u001b[0;32m--> 464\u001b[0;31m         \u001b[0;32mreturn\u001b[0m \u001b[0mself\u001b[0m\u001b[0;34m.\u001b[0m\u001b[0mexecute\u001b[0m\u001b[0;34m(\u001b[0m\u001b[0mCommand\u001b[0m\u001b[0;34m.\u001b[0m\u001b[0mGET_PAGE_SOURCE\u001b[0m\u001b[0;34m)\u001b[0m\u001b[0;34m[\u001b[0m\u001b[0;34m'value'\u001b[0m\u001b[0;34m]\u001b[0m\u001b[0;34m\u001b[0m\u001b[0m\n\u001b[0m\u001b[1;32m    465\u001b[0m \u001b[0;34m\u001b[0m\u001b[0m\n\u001b[1;32m    466\u001b[0m     \u001b[0;32mdef\u001b[0m \u001b[0mclose\u001b[0m\u001b[0;34m(\u001b[0m\u001b[0mself\u001b[0m\u001b[0;34m)\u001b[0m\u001b[0;34m:\u001b[0m\u001b[0;34m\u001b[0m\u001b[0m\n",
      "\u001b[0;32m/Users/prathirebala/anaconda/lib/python2.7/site-packages/selenium/webdriver/remote/webdriver.pyc\u001b[0m in \u001b[0;36mexecute\u001b[0;34m(self, driver_command, params)\u001b[0m\n\u001b[1;32m    197\u001b[0m \u001b[0;34m\u001b[0m\u001b[0m\n\u001b[1;32m    198\u001b[0m         \u001b[0mparams\u001b[0m \u001b[0;34m=\u001b[0m \u001b[0mself\u001b[0m\u001b[0;34m.\u001b[0m\u001b[0m_wrap_value\u001b[0m\u001b[0;34m(\u001b[0m\u001b[0mparams\u001b[0m\u001b[0;34m)\u001b[0m\u001b[0;34m\u001b[0m\u001b[0m\n\u001b[0;32m--> 199\u001b[0;31m         \u001b[0mresponse\u001b[0m \u001b[0;34m=\u001b[0m \u001b[0mself\u001b[0m\u001b[0;34m.\u001b[0m\u001b[0mcommand_executor\u001b[0m\u001b[0;34m.\u001b[0m\u001b[0mexecute\u001b[0m\u001b[0;34m(\u001b[0m\u001b[0mdriver_command\u001b[0m\u001b[0;34m,\u001b[0m \u001b[0mparams\u001b[0m\u001b[0;34m)\u001b[0m\u001b[0;34m\u001b[0m\u001b[0m\n\u001b[0m\u001b[1;32m    200\u001b[0m         \u001b[0;32mif\u001b[0m \u001b[0mresponse\u001b[0m\u001b[0;34m:\u001b[0m\u001b[0;34m\u001b[0m\u001b[0m\n\u001b[1;32m    201\u001b[0m             \u001b[0mself\u001b[0m\u001b[0;34m.\u001b[0m\u001b[0merror_handler\u001b[0m\u001b[0;34m.\u001b[0m\u001b[0mcheck_response\u001b[0m\u001b[0;34m(\u001b[0m\u001b[0mresponse\u001b[0m\u001b[0;34m)\u001b[0m\u001b[0;34m\u001b[0m\u001b[0m\n",
      "\u001b[0;32m/Users/prathirebala/anaconda/lib/python2.7/site-packages/selenium/webdriver/remote/remote_connection.pyc\u001b[0m in \u001b[0;36mexecute\u001b[0;34m(self, command, params)\u001b[0m\n\u001b[1;32m    393\u001b[0m         \u001b[0mpath\u001b[0m \u001b[0;34m=\u001b[0m \u001b[0mstring\u001b[0m\u001b[0;34m.\u001b[0m\u001b[0mTemplate\u001b[0m\u001b[0;34m(\u001b[0m\u001b[0mcommand_info\u001b[0m\u001b[0;34m[\u001b[0m\u001b[0;36m1\u001b[0m\u001b[0;34m]\u001b[0m\u001b[0;34m)\u001b[0m\u001b[0;34m.\u001b[0m\u001b[0msubstitute\u001b[0m\u001b[0;34m(\u001b[0m\u001b[0mparams\u001b[0m\u001b[0;34m)\u001b[0m\u001b[0;34m\u001b[0m\u001b[0m\n\u001b[1;32m    394\u001b[0m         \u001b[0murl\u001b[0m \u001b[0;34m=\u001b[0m \u001b[0;34m'%s%s'\u001b[0m \u001b[0;34m%\u001b[0m \u001b[0;34m(\u001b[0m\u001b[0mself\u001b[0m\u001b[0;34m.\u001b[0m\u001b[0m_url\u001b[0m\u001b[0;34m,\u001b[0m \u001b[0mpath\u001b[0m\u001b[0;34m)\u001b[0m\u001b[0;34m\u001b[0m\u001b[0m\n\u001b[0;32m--> 395\u001b[0;31m         \u001b[0;32mreturn\u001b[0m \u001b[0mself\u001b[0m\u001b[0;34m.\u001b[0m\u001b[0m_request\u001b[0m\u001b[0;34m(\u001b[0m\u001b[0mcommand_info\u001b[0m\u001b[0;34m[\u001b[0m\u001b[0;36m0\u001b[0m\u001b[0;34m]\u001b[0m\u001b[0;34m,\u001b[0m \u001b[0murl\u001b[0m\u001b[0;34m,\u001b[0m \u001b[0mbody\u001b[0m\u001b[0;34m=\u001b[0m\u001b[0mdata\u001b[0m\u001b[0;34m)\u001b[0m\u001b[0;34m\u001b[0m\u001b[0m\n\u001b[0m\u001b[1;32m    396\u001b[0m \u001b[0;34m\u001b[0m\u001b[0m\n\u001b[1;32m    397\u001b[0m     \u001b[0;32mdef\u001b[0m \u001b[0m_request\u001b[0m\u001b[0;34m(\u001b[0m\u001b[0mself\u001b[0m\u001b[0;34m,\u001b[0m \u001b[0mmethod\u001b[0m\u001b[0;34m,\u001b[0m \u001b[0murl\u001b[0m\u001b[0;34m,\u001b[0m \u001b[0mbody\u001b[0m\u001b[0;34m=\u001b[0m\u001b[0mNone\u001b[0m\u001b[0;34m)\u001b[0m\u001b[0;34m:\u001b[0m\u001b[0;34m\u001b[0m\u001b[0m\n",
      "\u001b[0;32m/Users/prathirebala/anaconda/lib/python2.7/site-packages/selenium/webdriver/remote/remote_connection.pyc\u001b[0m in \u001b[0;36m_request\u001b[0;34m(self, method, url, body)\u001b[0m\n\u001b[1;32m    423\u001b[0m                 \u001b[0mbody\u001b[0m \u001b[0;34m=\u001b[0m \u001b[0mNone\u001b[0m\u001b[0;34m\u001b[0m\u001b[0m\n\u001b[1;32m    424\u001b[0m             \u001b[0;32mtry\u001b[0m\u001b[0;34m:\u001b[0m\u001b[0;34m\u001b[0m\u001b[0m\n\u001b[0;32m--> 425\u001b[0;31m                 \u001b[0mself\u001b[0m\u001b[0;34m.\u001b[0m\u001b[0m_conn\u001b[0m\u001b[0;34m.\u001b[0m\u001b[0mrequest\u001b[0m\u001b[0;34m(\u001b[0m\u001b[0mmethod\u001b[0m\u001b[0;34m,\u001b[0m \u001b[0mparsed_url\u001b[0m\u001b[0;34m.\u001b[0m\u001b[0mpath\u001b[0m\u001b[0;34m,\u001b[0m \u001b[0mbody\u001b[0m\u001b[0;34m,\u001b[0m \u001b[0mheaders\u001b[0m\u001b[0;34m)\u001b[0m\u001b[0;34m\u001b[0m\u001b[0m\n\u001b[0m\u001b[1;32m    426\u001b[0m                 \u001b[0mresp\u001b[0m \u001b[0;34m=\u001b[0m \u001b[0mself\u001b[0m\u001b[0;34m.\u001b[0m\u001b[0m_conn\u001b[0m\u001b[0;34m.\u001b[0m\u001b[0mgetresponse\u001b[0m\u001b[0;34m(\u001b[0m\u001b[0;34m)\u001b[0m\u001b[0;34m\u001b[0m\u001b[0m\n\u001b[1;32m    427\u001b[0m             \u001b[0;32mexcept\u001b[0m \u001b[0;34m(\u001b[0m\u001b[0mhttplib\u001b[0m\u001b[0;34m.\u001b[0m\u001b[0mHTTPException\u001b[0m\u001b[0;34m,\u001b[0m \u001b[0msocket\u001b[0m\u001b[0;34m.\u001b[0m\u001b[0merror\u001b[0m\u001b[0;34m)\u001b[0m\u001b[0;34m:\u001b[0m\u001b[0;34m\u001b[0m\u001b[0m\n",
      "\u001b[0;32m/Users/prathirebala/anaconda/lib/python2.7/httplib.pyc\u001b[0m in \u001b[0;36mrequest\u001b[0;34m(self, method, url, body, headers)\u001b[0m\n\u001b[1;32m   1055\u001b[0m     \u001b[0;32mdef\u001b[0m \u001b[0mrequest\u001b[0m\u001b[0;34m(\u001b[0m\u001b[0mself\u001b[0m\u001b[0;34m,\u001b[0m \u001b[0mmethod\u001b[0m\u001b[0;34m,\u001b[0m \u001b[0murl\u001b[0m\u001b[0;34m,\u001b[0m \u001b[0mbody\u001b[0m\u001b[0;34m=\u001b[0m\u001b[0mNone\u001b[0m\u001b[0;34m,\u001b[0m \u001b[0mheaders\u001b[0m\u001b[0;34m=\u001b[0m\u001b[0;34m{\u001b[0m\u001b[0;34m}\u001b[0m\u001b[0;34m)\u001b[0m\u001b[0;34m:\u001b[0m\u001b[0;34m\u001b[0m\u001b[0m\n\u001b[1;32m   1056\u001b[0m         \u001b[0;34m\"\"\"Send a complete request to the server.\"\"\"\u001b[0m\u001b[0;34m\u001b[0m\u001b[0m\n\u001b[0;32m-> 1057\u001b[0;31m         \u001b[0mself\u001b[0m\u001b[0;34m.\u001b[0m\u001b[0m_send_request\u001b[0m\u001b[0;34m(\u001b[0m\u001b[0mmethod\u001b[0m\u001b[0;34m,\u001b[0m \u001b[0murl\u001b[0m\u001b[0;34m,\u001b[0m \u001b[0mbody\u001b[0m\u001b[0;34m,\u001b[0m \u001b[0mheaders\u001b[0m\u001b[0;34m)\u001b[0m\u001b[0;34m\u001b[0m\u001b[0m\n\u001b[0m\u001b[1;32m   1058\u001b[0m \u001b[0;34m\u001b[0m\u001b[0m\n\u001b[1;32m   1059\u001b[0m     \u001b[0;32mdef\u001b[0m \u001b[0m_set_content_length\u001b[0m\u001b[0;34m(\u001b[0m\u001b[0mself\u001b[0m\u001b[0;34m,\u001b[0m \u001b[0mbody\u001b[0m\u001b[0;34m,\u001b[0m \u001b[0mmethod\u001b[0m\u001b[0;34m)\u001b[0m\u001b[0;34m:\u001b[0m\u001b[0;34m\u001b[0m\u001b[0m\n",
      "\u001b[0;32m/Users/prathirebala/anaconda/lib/python2.7/httplib.pyc\u001b[0m in \u001b[0;36m_send_request\u001b[0;34m(self, method, url, body, headers)\u001b[0m\n\u001b[1;32m   1089\u001b[0m             \u001b[0mskips\u001b[0m\u001b[0;34m[\u001b[0m\u001b[0;34m'skip_accept_encoding'\u001b[0m\u001b[0;34m]\u001b[0m \u001b[0;34m=\u001b[0m \u001b[0;36m1\u001b[0m\u001b[0;34m\u001b[0m\u001b[0m\n\u001b[1;32m   1090\u001b[0m \u001b[0;34m\u001b[0m\u001b[0m\n\u001b[0;32m-> 1091\u001b[0;31m         \u001b[0mself\u001b[0m\u001b[0;34m.\u001b[0m\u001b[0mputrequest\u001b[0m\u001b[0;34m(\u001b[0m\u001b[0mmethod\u001b[0m\u001b[0;34m,\u001b[0m \u001b[0murl\u001b[0m\u001b[0;34m,\u001b[0m \u001b[0;34m**\u001b[0m\u001b[0mskips\u001b[0m\u001b[0;34m)\u001b[0m\u001b[0;34m\u001b[0m\u001b[0m\n\u001b[0m\u001b[1;32m   1092\u001b[0m \u001b[0;34m\u001b[0m\u001b[0m\n\u001b[1;32m   1093\u001b[0m         \u001b[0;32mif\u001b[0m \u001b[0;34m'content-length'\u001b[0m \u001b[0;32mnot\u001b[0m \u001b[0;32min\u001b[0m \u001b[0mheader_names\u001b[0m\u001b[0;34m:\u001b[0m\u001b[0;34m\u001b[0m\u001b[0m\n",
      "\u001b[0;32m/Users/prathirebala/anaconda/lib/python2.7/httplib.pyc\u001b[0m in \u001b[0;36mputrequest\u001b[0;34m(self, method, url, skip_host, skip_accept_encoding)\u001b[0m\n\u001b[1;32m    937\u001b[0m             \u001b[0mself\u001b[0m\u001b[0;34m.\u001b[0m\u001b[0m__state\u001b[0m \u001b[0;34m=\u001b[0m \u001b[0m_CS_REQ_STARTED\u001b[0m\u001b[0;34m\u001b[0m\u001b[0m\n\u001b[1;32m    938\u001b[0m         \u001b[0;32melse\u001b[0m\u001b[0;34m:\u001b[0m\u001b[0;34m\u001b[0m\u001b[0m\n\u001b[0;32m--> 939\u001b[0;31m             \u001b[0;32mraise\u001b[0m \u001b[0mCannotSendRequest\u001b[0m\u001b[0;34m(\u001b[0m\u001b[0;34m)\u001b[0m\u001b[0;34m\u001b[0m\u001b[0m\n\u001b[0m\u001b[1;32m    940\u001b[0m \u001b[0;34m\u001b[0m\u001b[0m\n\u001b[1;32m    941\u001b[0m         \u001b[0;31m# Save the method we use, we need it later in the response phase\u001b[0m\u001b[0;34m\u001b[0m\u001b[0;34m\u001b[0m\u001b[0m\n",
      "\u001b[0;31mCannotSendRequest\u001b[0m: "
     ]
    }
   ],
   "source": [
    "if __name__ == '__main__':\n",
    "    \n",
    "    # list of cuisines on Saveur\n",
    "    cuisines = ['African', 'American', 'Asian', 'Cajun/Creole', 'Caribbean', 'Chinese', 'Cuban', 'Eastern European/Russian', 'English/Scottish', 'French', 'German', 'Greek', 'Indian', 'Indonesian', 'Italian', 'Japanese', 'Jewish', 'Mediterranean', 'Mexican', 'Middle Eastern', 'Moroccan', 'Scandinavian', 'Southwestern/Soul Food', 'Spanish/Portuguese', 'Tex-Mex', 'Thai', 'Vietnamese']\n",
    "    filter2_values = [1000489, 1000490, 1000491, 1000493, 1000494, 1000496, 1000497, 1000498, 1000499, 1000500, 1000501, 1000503, 1000506, 1000932, 1000508, 1000509, 1000510, 1000512, 1000513, 1000514, 1000515, 1000517, 1000518, 1000520, 1000521, 1000522, 1000525]\n",
    "    #coll.delete_many({})\n",
    "    cuisine_dataframe = get_cuisine_recipes(cuisines, filter2_values)\n",
    "    "
   ]
  },
  {
   "cell_type": "code",
   "execution_count": null,
   "metadata": {
    "collapsed": false
   },
   "outputs": [],
   "source": []
  },
  {
   "cell_type": "code",
   "execution_count": null,
   "metadata": {
    "collapsed": true
   },
   "outputs": [],
   "source": []
  }
 ],
 "metadata": {
  "kernelspec": {
   "display_name": "Python 2",
   "language": "python",
   "name": "python2"
  },
  "language_info": {
   "codemirror_mode": {
    "name": "ipython",
    "version": 2
   },
   "file_extension": ".py",
   "mimetype": "text/x-python",
   "name": "python",
   "nbconvert_exporter": "python",
   "pygments_lexer": "ipython2",
   "version": "2.7.11"
  }
 },
 "nbformat": 4,
 "nbformat_minor": 0
}
